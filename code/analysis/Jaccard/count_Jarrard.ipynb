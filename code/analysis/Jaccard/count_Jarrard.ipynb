{
 "cells": [
  {
   "cell_type": "code",
   "execution_count": 1,
   "id": "initial_id",
   "metadata": {
    "collapsed": true,
    "ExecuteTime": {
     "end_time": "2025-05-15T21:34:08.406445Z",
     "start_time": "2025-05-15T21:34:08.397093Z"
    }
   },
   "outputs": [],
   "source": [
    "import pandas as pd\n",
    "import numpy as np\n",
    "\n",
    "data = pd.read_csv('flavor.csv')"
   ]
  },
  {
   "cell_type": "code",
   "execution_count": 2,
   "outputs": [
    {
     "data": {
      "text/plain": "   annotation_id  annotator  \\\n0            561          2   \n1            562          2   \n2            563          2   \n3            564          2   \n4            565          2   \n\n                                              answer  \\\n0                                        smoke\\npine   \n1                                   cedar\\nRed Fruit   \n2             spices\\ntobacco\\nplum\\nblack current\\n   \n3                                 leather\\ntobacco\\n   \n4  truffle\\ntobacco\\nlicorice\\nsmoke\\ncedar\\nblac...   \n\n                    created_at    id lang  lead_time  \\\n0  2025-02-01T22:05:51.456011Z  4358   ch     46.185   \n1  2025-02-01T22:06:10.304140Z  4359   en     15.305   \n2  2025-02-01T22:11:19.321628Z  4360   en    320.390   \n3  2025-02-01T22:12:30.155208Z  4361   ch     38.826   \n4  2025-02-01T22:13:24.439167Z  4362   en    149.550   \n\n                           name  \\\n0         1975 Chateau Giscours   \n1         1975 Chateau Giscours   \n2  1985 Chateau Cos d'Estournel   \n3  1985 Chateau Cos d'Estournel   \n4    1985 Chateau Gruaud-Larose   \n\n                                                text  \\\n0  The “confident ease” of this wine begins to sp...   \n1  92-94 Looks like a 15, actually 45 years Borde...   \n2  Fully developed, the nose, with its spice box,...   \n3  The most prominent character of Cos 1985 is th...   \n4  Fully mature, the seductive nose offers hints ...   \n\n                    updated_at  \n0  2025-02-04T21:01:19.198079Z  \n1  2025-02-04T21:01:31.178438Z  \n2  2025-02-04T21:01:45.824597Z  \n3  2025-02-04T21:02:01.574495Z  \n4  2025-02-04T21:02:25.475872Z  ",
      "text/html": "<div>\n<style scoped>\n    .dataframe tbody tr th:only-of-type {\n        vertical-align: middle;\n    }\n\n    .dataframe tbody tr th {\n        vertical-align: top;\n    }\n\n    .dataframe thead th {\n        text-align: right;\n    }\n</style>\n<table border=\"1\" class=\"dataframe\">\n  <thead>\n    <tr style=\"text-align: right;\">\n      <th></th>\n      <th>annotation_id</th>\n      <th>annotator</th>\n      <th>answer</th>\n      <th>created_at</th>\n      <th>id</th>\n      <th>lang</th>\n      <th>lead_time</th>\n      <th>name</th>\n      <th>text</th>\n      <th>updated_at</th>\n    </tr>\n  </thead>\n  <tbody>\n    <tr>\n      <th>0</th>\n      <td>561</td>\n      <td>2</td>\n      <td>smoke\\npine</td>\n      <td>2025-02-01T22:05:51.456011Z</td>\n      <td>4358</td>\n      <td>ch</td>\n      <td>46.185</td>\n      <td>1975 Chateau Giscours</td>\n      <td>The “confident ease” of this wine begins to sp...</td>\n      <td>2025-02-04T21:01:19.198079Z</td>\n    </tr>\n    <tr>\n      <th>1</th>\n      <td>562</td>\n      <td>2</td>\n      <td>cedar\\nRed Fruit</td>\n      <td>2025-02-01T22:06:10.304140Z</td>\n      <td>4359</td>\n      <td>en</td>\n      <td>15.305</td>\n      <td>1975 Chateau Giscours</td>\n      <td>92-94 Looks like a 15, actually 45 years Borde...</td>\n      <td>2025-02-04T21:01:31.178438Z</td>\n    </tr>\n    <tr>\n      <th>2</th>\n      <td>563</td>\n      <td>2</td>\n      <td>spices\\ntobacco\\nplum\\nblack current\\n</td>\n      <td>2025-02-01T22:11:19.321628Z</td>\n      <td>4360</td>\n      <td>en</td>\n      <td>320.390</td>\n      <td>1985 Chateau Cos d'Estournel</td>\n      <td>Fully developed, the nose, with its spice box,...</td>\n      <td>2025-02-04T21:01:45.824597Z</td>\n    </tr>\n    <tr>\n      <th>3</th>\n      <td>564</td>\n      <td>2</td>\n      <td>leather\\ntobacco\\n</td>\n      <td>2025-02-01T22:12:30.155208Z</td>\n      <td>4361</td>\n      <td>ch</td>\n      <td>38.826</td>\n      <td>1985 Chateau Cos d'Estournel</td>\n      <td>The most prominent character of Cos 1985 is th...</td>\n      <td>2025-02-04T21:02:01.574495Z</td>\n    </tr>\n    <tr>\n      <th>4</th>\n      <td>565</td>\n      <td>2</td>\n      <td>truffle\\ntobacco\\nlicorice\\nsmoke\\ncedar\\nblac...</td>\n      <td>2025-02-01T22:13:24.439167Z</td>\n      <td>4362</td>\n      <td>en</td>\n      <td>149.550</td>\n      <td>1985 Chateau Gruaud-Larose</td>\n      <td>Fully mature, the seductive nose offers hints ...</td>\n      <td>2025-02-04T21:02:25.475872Z</td>\n    </tr>\n  </tbody>\n</table>\n</div>"
     },
     "execution_count": 2,
     "metadata": {},
     "output_type": "execute_result"
    }
   ],
   "source": [
    "data.head()"
   ],
   "metadata": {
    "collapsed": false,
    "ExecuteTime": {
     "end_time": "2025-05-15T21:34:09.513285Z",
     "start_time": "2025-05-15T21:34:09.503395Z"
    }
   },
   "id": "b83e68d96eb3d23e"
  },
  {
   "cell_type": "code",
   "execution_count": 3,
   "outputs": [
    {
     "name": "stdout",
     "output_type": "stream",
     "text": [
      "(503, 11)\n",
      "(491, 11)\n"
     ]
    }
   ],
   "source": [
    "# replace none to string\n",
    "data['answer'] = data['answer'].replace(np.nan, '')\n",
    "data['answer'] = data['answer'].str.lower()\n",
    "def string_to_list(string):\n",
    "    s = string.replace(',', '\\n').replace('and', '\\n')\n",
    "    lines = s.split('\\n')\n",
    "    return [line.strip() for line in lines]\n",
    "\n",
    "\n",
    "data['categories'] = data['answer'].apply(string_to_list)\n",
    "print(data.shape)\n",
    "data.drop_duplicates(subset=['text'], inplace=True)\n",
    "print(data.shape)"
   ],
   "metadata": {
    "collapsed": false,
    "ExecuteTime": {
     "end_time": "2025-05-15T21:34:10.152719Z",
     "start_time": "2025-05-15T21:34:10.150067Z"
    }
   },
   "id": "459e29490cae8e6f"
  },
  {
   "cell_type": "code",
   "execution_count": 34,
   "outputs": [
    {
     "data": {
      "text/plain": "({'cherry': 99,\n  'plum': 98,\n  '': 56,\n  'blackberry': 54,\n  'oak': 50,\n  'licorice': 49,\n  'tobacco': 48,\n  'berry': 42,\n  'spice': 42,\n  'chocolate': 38,\n  'flower': 37,\n  'espresso': 34,\n  'cassis': 33,\n  'red fruit': 32,\n  'herb': 28,\n  'smoke': 27,\n  'cedar': 27,\n  'blueberry': 26,\n  'black fruit': 22,\n  'nougat': 22,\n  'orange zest': 20,\n  'black currant': 18,\n  'mineral': 16,\n  'wood': 16,\n  'earth': 15,\n  'currant': 15,\n  'liquorice': 15,\n  'cocoa': 15,\n  'violet': 15,\n  'truffle': 14,\n  'graphite': 14,\n  'fruit': 14,\n  'rose': 13,\n  'tobacco leaf': 12,\n  'floral': 12,\n  'black cherry': 12,\n  'raspberry': 11,\n  'clove': 11,\n  'red currant': 11,\n  'flowers': 11,\n  'cinnamon': 10,\n  'cranberry': 10,\n  'cigar box': 9,\n  'vanilla': 9,\n  'pine': 8,\n  'mulberry': 8,\n  'mint': 8,\n  'earthy': 7,\n  'hawthorn': 7,\n  'blackcurrant': 6,\n  'mocha': 6,\n  'caramel': 6,\n  'black berry': 6,\n  's': 6,\n  'coffee bean': 6,\n  'honey': 6,\n  'pepper': 6,\n  'y': 6,\n  'peach': 6,\n  'prune': 6,\n  'ginger': 6,\n  'leather': 5,\n  'spicy': 5,\n  'red berry': 5,\n  'olive': 5,\n  'alwood': 5,\n  'fennel': 5,\n  'dark fruit': 5,\n  'strawberry': 5,\n  'wet earth': 5,\n  'lavender': 5,\n  'herbal': 4,\n  'hazelnut': 4,\n  'pencil shave': 4,\n  'lemon': 4,\n  'apricot': 4,\n  'pear': 4,\n  'rosemary': 4,\n  'waxberry': 4,\n  'star anise': 4,\n  'hibiscus': 4,\n  'herbs': 4,\n  'tangerine zest': 4,\n  'incense': 4,\n  'bergamot': 4,\n  'ink': 4,\n  'jujube': 4,\n  'bayberry': 3,\n  'sichuan pepper': 3,\n  'mushroom': 3,\n  'red fruits': 3,\n  'meaty': 3,\n  'orange peel': 3,\n  'orange': 3,\n  'sage': 3,\n  'pencil': 3,\n  'pineapple': 3,\n  'chalk': 3,\n  'coffee': 3,\n  'cream': 3,\n  'currants': 3,\n  'c': 3,\n  'cumin': 3,\n  'espresso bean': 3,\n  'grapefruit': 3,\n  'linden': 3,\n  'butterscotch': 3,\n  'almond': 3,\n  'camphor': 3,\n  'spices': 2,\n  'beef jerky': 2,\n  'undergrowth': 2,\n  'redcurrant': 2,\n  'pu-erh tea': 2,\n  'cigars': 2,\n  'plums': 2,\n  'toffee': 2,\n  'thyme': 2,\n  'meat': 2,\n  'asparagus': 2,\n  'creamy': 2,\n  'basil': 2,\n  'apple': 2,\n  'boysenberry': 2,\n  'tar': 2,\n  'peppercorn': 2,\n  'spice box': 2,\n  'rhubarb jam': 2,\n  'black raspberry': 2,\n  'black plum': 2,\n  'anise': 2,\n  'citrus': 2,\n  'jackfruit': 2,\n  'stone': 2,\n  'toasty': 2,\n  'rhubarb': 2,\n  'm': 2,\n  'arin': 2,\n  'green tea': 2,\n  'bay leaf': 2,\n  'magnolias': 2,\n  'gardenias': 2,\n  'geranium': 2,\n  'red currants': 2,\n  'minerality': 2,\n  'spearmint': 2,\n  'ginseng': 2,\n  'lime': 2,\n  'date': 2,\n  'hyacinth': 2,\n  'black current': 1,\n  'burnt rubber': 1,\n  'barnyard': 1,\n  'strawberry juice': 1,\n  'resin': 1,\n  'matsutake': 1,\n  'cherr': 1,\n  'wool': 1,\n  'acidity': 1,\n  'leafy': 1,\n  'mocha powder': 1,\n  'green fruit': 1,\n  'cigar': 1,\n  'xiao qinggan': 1,\n  'wet forest': 1,\n  'red cherry': 1,\n  'dried prunes': 1,\n  'forest floor': 1,\n  'jammy fruits': 1,\n  'plu': 1,\n  'sour jujube': 1,\n  'volatile': 1,\n  'yellow tropical fruits': 1,\n  'floral nuance': 1,\n  'cherry jam': 1,\n  'bay leaves': 1,\n  'chocolate mint': 1,\n  'humidor': 1,\n  'black fruits': 1,\n  'kale borecole': 1,\n  'mild thyme': 1,\n  'black tea': 1,\n  'hawthorn c': 1,\n  'black sesame soup': 1,\n  'clay': 1,\n  'gravel soil': 1,\n  'truffle flower': 1,\n  'juice': 1,\n  'cypress': 1,\n  'chinese salty prune': 1,\n  'tamarind pulp': 1,\n  'fudge': 1,\n  'coffe': 1,\n  'peppery nuances': 1,\n  'chinese pu-erh tea': 1,\n  'mediterranean brush': 1,\n  'jam': 1,\n  'black forest cake': 1,\n  'chinese brick tea': 1,\n  'juniper leaf': 1,\n  'black coffee': 1,\n  'plum jam': 1,\n  'kirsch': 1,\n  'brambleberry': 1,\n  'minty chocolate': 1,\n  'puer tea': 1,\n  'cuban cigar': 1,\n  'creme': 1,\n  'barbecue': 1,\n  'licorice c': 1,\n  'lavish spiciness': 1,\n  'vanilla milk coffee': 1,\n  'fruity': 1,\n  'bought': 1,\n  'sesame oil': 1,\n  'wet clay': 1,\n  'cedaroak': 1,\n  'saffron': 1,\n  'southern china ginger': 1,\n  'curry': 1,\n  'orange flower': 1,\n  'dried apricot': 1,\n  'yellow peach': 1,\n  'elderflower': 1,\n  'orange rind': 1,\n  'sea': 1,\n  'sour plum': 1,\n  'cinnamon spice': 1,\n  'darjeeling tea': 1,\n  'dark chocolate': 1,\n  'chocolate fudge': 1,\n  'peony': 1,\n  'amomum': 1,\n  'dark cocoa': 1,\n  'dark red fruits': 1,\n  'black goji': 1,\n  'earthy note': 1,\n  'metallic': 1,\n  'fruit tea': 1,\n  'jujube c': 1,\n  'pure lemongrass': 1,\n  'red plum': 1,\n  'milk': 1,\n  'herbal spice': 1,\n  'coco': 1,\n  'pea-pod': 1,\n  'cats-pee': 1,\n  'yellow fruit': 1,\n  'peppery': 1,\n  'peel': 1,\n  'cori': 1,\n  'er': 1,\n  'rosin': 1,\n  'gravel': 1,\n  'gardenia': 1,\n  'magnolia': 1,\n  'hibiscus flower': 1,\n  'grapefruit peel': 1,\n  'black currants': 1,\n  'juniper': 1,\n  'sesame': 1,\n  'arin rind': 1,\n  'petal': 1,\n  'melon': 1,\n  'cigar wrapper': 1,\n  'guaranà': 1,\n  'lemon juice': 1,\n  'orange pee': 1,\n  'flint': 1,\n  'green pomelo': 1,\n  'chewy red fruits': 1,\n  'zesty': 1,\n  'some herbal': 1,\n  'sea buckthorn': 1,\n  'sweet plums': 1,\n  'iris': 1,\n  'forest leaf': 1,\n  'cocoa powder': 1,\n  'gentian roots': 1,\n  'white almonds': 1,\n  'elderflowers': 1,\n  'roasted plums': 1,\n  'salt': 1,\n  'red prune': 1,\n  'cut cedar': 1,\n  'vetiver': 1,\n  'citron': 1,\n  'tangerine': 1,\n  'chalky': 1,\n  'peanut': 1,\n  'marjoram': 1,\n  'wisteria blossom': 1,\n  'green m': 1,\n  'myrtle': 1,\n  'tea stalk': 1,\n  'eucalyptus': 1,\n  'date cake': 1,\n  'fig': 1,\n  'soil': 1,\n  'pomegranate': 1,\n  'lemon peel': 1,\n  'leaf': 1,\n  'underbrush': 1,\n  'red date': 1,\n  'marzipan': 1,\n  'ice-skin mooncake': 1,\n  'chamomile': 1,\n  'gooseberry': 1,\n  'flower cake': 1,\n  'kumquat': 1,\n  'with flower': 1,\n  'lemon curd': 1,\n  'mango': 1,\n  'nut': 1},\n 314)"
     },
     "execution_count": 34,
     "metadata": {},
     "output_type": "execute_result"
    }
   ],
   "source": [
    "categories_res = {}\n",
    "for index, row in data.iterrows():\n",
    "    categories = row['categories']\n",
    "    for category in categories:\n",
    "        if category not in categories_res:\n",
    "            categories_res[category] = 1\n",
    "        else:\n",
    "            categories_res[category] += 1\n",
    "#sort by value\n",
    "categories_res = dict(sorted(categories_res.items(), key=lambda item: item[1], reverse=True))\n",
    "categories_res, len(categories_res)"
   ],
   "metadata": {
    "collapsed": false,
    "ExecuteTime": {
     "end_time": "2025-05-17T10:30:23.703135Z",
     "start_time": "2025-05-17T10:30:23.681385Z"
    }
   },
   "id": "a9443ff83f03167b"
  },
  {
   "cell_type": "code",
   "execution_count": 26,
   "outputs": [
    {
     "data": {
      "text/plain": "({'cherry': 99,\n  'plum': 98,\n  '': 56,\n  'blackberry': 54,\n  'oak': 50,\n  'licorice': 49,\n  'tobacco': 48,\n  'berry': 42,\n  'spice': 42,\n  'chocolate': 38,\n  'flower': 37,\n  'espresso': 34,\n  'cassis': 33,\n  'red fruit': 32,\n  'herb': 28,\n  'smoke': 27,\n  'cedar': 27,\n  'blueberry': 26,\n  'black fruit': 22,\n  'nougat': 22,\n  'orange zest': 20,\n  'black currant': 18,\n  'mineral': 16,\n  'wood': 16,\n  'earth': 15,\n  'currant': 15,\n  'liquorice': 15,\n  'cocoa': 15,\n  'violet': 15,\n  'truffle': 14,\n  'graphite': 14,\n  'fruit': 14,\n  'rose': 13,\n  'tobacco leaf': 12,\n  'floral': 12,\n  'black cherry': 12,\n  'raspberry': 11,\n  'clove': 11,\n  'red currant': 11,\n  'flowers': 11,\n  'cinnamon': 10,\n  'cranberry': 10,\n  'cigar box': 9,\n  'vanilla': 9,\n  'pine': 8,\n  'mulberry': 8,\n  'mint': 8,\n  'earthy': 7,\n  'hawthorn': 7,\n  'blackcurrant': 6,\n  'mocha': 6,\n  'caramel': 6,\n  'black berry': 6,\n  's': 6,\n  'coffee bean': 6,\n  'honey': 6,\n  'pepper': 6,\n  'y': 6,\n  'peach': 6,\n  'prune': 6,\n  'ginger': 6},\n 61)"
     },
     "execution_count": 26,
     "metadata": {},
     "output_type": "execute_result"
    }
   ],
   "source": [
    "# select number > 5\n",
    "categories_res = {key: value for key, value in categories_res.items() if value > 3}\n",
    "categories_res, len(categories_res)"
   ],
   "metadata": {
    "collapsed": false,
    "ExecuteTime": {
     "end_time": "2025-05-16T20:04:37.978285Z",
     "start_time": "2025-05-16T20:04:37.965277Z"
    }
   },
   "id": "6e1304a2623f59a4"
  },
  {
   "cell_type": "code",
   "execution_count": 22,
   "outputs": [
    {
     "data": {
      "text/plain": "(0, {})"
     },
     "execution_count": 22,
     "metadata": {},
     "output_type": "execute_result"
    }
   ],
   "source": [
    "# keep value > 1\n",
    "categories_res = {key: value for key, value in categories_res.items() if value > 1}\n",
    "len(categories_res), categories_res"
   ],
   "metadata": {
    "collapsed": false,
    "ExecuteTime": {
     "end_time": "2025-05-16T20:03:50.946585Z",
     "start_time": "2025-05-16T20:03:50.940497Z"
    }
   },
   "id": "fa62d6a5128751f2"
  },
  {
   "cell_type": "code",
   "execution_count": 6,
   "outputs": [],
   "source": [
    "# first category\n",
    "def convert_to_category(string):\n",
    "    if 'smoke' in string:\n",
    "        return 'toasted', 'maturation in oak barrel'\n",
    "    if 'pine' in string or  'cedar' in string or 'oak' in string:\n",
    "        return 'woods', 'maturation in oak barrel'\n",
    "\n",
    "    if 'plum' in string or 'cherry' in string:\n",
    "        return 'stone fruit', 'fruit'\n",
    "    \n",
    "    if 'blackberry' in string or 'black currant' in string or 'raspberry' in string or 'strawberry' in string or 'black current' in string or 'currant' in string or 'blackcurrant' in string or 'blueberry' in string or 'berry' in string or 'cassis' in string:\n",
    "        return 'red berries', 'fruit'\n",
    "    \n",
    "    if 'rose' in string or 'violet' in string:\n",
    "        return 'colored flowers', 'floral'\n",
    "    \n",
    "    if 'flower' in string:\n",
    "        return 'flowers', 'floral'\n",
    "    \n",
    "    if 'leather' in string or 'gravy' in string:\n",
    "        return 'animal', 'aged red wine'\n",
    "    \n",
    "    if 'clove' in string or 'cinnamon' in string or 'vanilla' in string or 'nutmeg' in string or 'pepper' in string or 'liquorice' in string or 'licorice' in string:\n",
    "        return 'spices', 'maturation in oak barrel'\n",
    "    \n",
    "    if 'tar' in string or 'smoke' in string or 'coffee' in string or 'espresso' in string or 'cocoa' in string or 'chocolate' in string or 'cigar' in string:\n",
    "        return 'toasted', 'maturation in oak barrel'\n",
    "    \n",
    "    if 'lemon' in string or 'lime' in string or 'grapefruit' in string:\n",
    "        return 'citrus', 'fruit'\n",
    "    \n",
    "    if 'orange zest' in string or 'apricot' in string:\n",
    "        return 'botrytis', 'fruit'\n",
    "    \n",
    "    if 'pear' in string or 'apple' in string:\n",
    "        return 'pome fruit', 'fruit'\n",
    "    \n",
    "    if 'peach' in string:\n",
    "        return 'stone fruit', 'fruit'\n",
    "    \n",
    "    if 'truffle' in string or 'mushroom' in string or 'earth' in string:\n",
    "        return 'undergrowth', 'aged red wine'\n",
    "    \n",
    "    if 'tobacco' in string or 'hay' in string:\n",
    "        return 'herbs', 'vegetal'\n",
    "    \n",
    "    if 'mint' in string or 'fern' in string or 'dill' in string or 'grass' in string or 'thyme' in string:\n",
    "        return 'herbs', 'vegetal'\n",
    "    \n",
    "    if 'herb' in string:\n",
    "        return 'herbs', 'vegetal'\n",
    "        \n",
    "    \n",
    "    if 'red fruit' in string:\n",
    "        return 'red fruit', 'fruit'\n",
    "    \n",
    "    if 'black fruit' in string:\n",
    "        return 'black fruit', 'fruit'\n",
    "    \n",
    "    if 'fruit' in string:\n",
    "        return 'fruit', 'fruit'\n",
    "    \n",
    "    if 'wood' in string:\n",
    "        return 'woods', 'maturation in oak barrel'\n",
    "    \n",
    "    if 'spice' in string:\n",
    "        return 'spices', 'maturation in oak barrel'\n",
    "    \n",
    "    \n",
    "    return None, None"
   ],
   "metadata": {
    "collapsed": false,
    "ExecuteTime": {
     "end_time": "2025-05-15T21:34:18.315248Z",
     "start_time": "2025-05-15T21:34:18.310183Z"
    }
   },
   "id": "f914810d8529af8e"
  },
  {
   "cell_type": "code",
   "execution_count": 7,
   "outputs": [
    {
     "data": {
      "text/plain": "(0, {})"
     },
     "execution_count": 7,
     "metadata": {},
     "output_type": "execute_result"
    }
   ],
   "source": [
    "# remove whether it appear in convert_to_category\n",
    "keys_to_remove = [key for key in categories_res.keys() if convert_to_category(key) is not None]\n",
    "\n",
    "for key in keys_to_remove:\n",
    "    del categories_res[key]\n",
    "len(categories_res), categories_res"
   ],
   "metadata": {
    "collapsed": false,
    "ExecuteTime": {
     "end_time": "2025-05-15T21:34:20.306396Z",
     "start_time": "2025-05-15T21:34:20.296690Z"
    }
   },
   "id": "d6bde5babd95c6c2"
  },
  {
   "cell_type": "code",
   "execution_count": 8,
   "outputs": [
    {
     "data": {
      "text/plain": "     annotation_id  annotator  \\\n0              561          2   \n1              562          2   \n2              563          2   \n3              564          2   \n4              565          2   \n..             ...        ...   \n498           1061          2   \n499           1062          2   \n500           1063          2   \n501           1064          2   \n502           1065          2   \n\n                                                answer  \\\n0                                          smoke\\npine   \n1                                     cedar\\nred fruit   \n2               spices\\ntobacco\\nplum\\nblack current\\n   \n3                                   leather\\ntobacco\\n   \n4    truffle\\ntobacco\\nlicorice\\nsmoke\\ncedar\\nblac...   \n..                                                 ...   \n498  plum\\nblackberry\\nchocolate\\nincense\\nherb\\nro...   \n499  cinnamon, fennel, kumquat, and jackfruit\\nsich...   \n500                               honey\\nwood\\nvanilla   \n501   honey, with flower, orange, lemon curd, vanil...   \n502                            lemon\\npineapple\\npeach   \n\n                      created_at    id lang  lead_time  \\\n0    2025-02-01T22:05:51.456011Z  4358   ch     46.185   \n1    2025-02-01T22:06:10.304140Z  4359   en     15.305   \n2    2025-02-01T22:11:19.321628Z  4360   en    320.390   \n3    2025-02-01T22:12:30.155208Z  4361   ch     38.826   \n4    2025-02-01T22:13:24.439167Z  4362   en    149.550   \n..                           ...   ...  ...        ...   \n498  2025-02-05T00:39:25.801126Z  4868   en     26.571   \n499  2025-02-05T00:39:51.768300Z  4869   ch     20.023   \n500  2025-02-05T00:40:36.848599Z  4870   en     28.231   \n501  2025-02-05T00:40:55.916334Z  4871   en     18.269   \n502  2025-02-05T00:41:11.160065Z  4872   en     22.241   \n\n                                name  \\\n0              1975 Chateau Giscours   \n1              1975 Chateau Giscours   \n2       1985 Chateau Cos d'Estournel   \n3       1985 Chateau Cos d'Estournel   \n4         1985 Chateau Gruaud-Larose   \n..                               ...   \n498         2021 Chateau La Violette   \n499  2021 Chateau Lafaurie-Peyraguey   \n500  2021 Chateau Lafaurie-Peyraguey   \n501  2021 Chateau Lafaurie-Peyraguey   \n502  2021 Chateau Lafaurie-Peyraguey   \n\n                                                  text  \\\n0    The “confident ease” of this wine begins to sp...   \n1    92-94 Looks like a 15, actually 45 years Borde...   \n2    Fully developed, the nose, with its spice box,...   \n3    The most prominent character of Cos 1985 is th...   \n4    Fully mature, the seductive nose offers hints ...   \n..                                                 ...   \n498  Open and with a distinctly Mediterranean profi...   \n499  Lafaurie-Peyraguey boasts a surprisingly great...   \n500  Light greenish yellow, silver reflections. An ...   \n501  Yellow tropical fruits dipped in honey, with f...   \n502  Deep lemon-yellow to pale-gold in color. Aroma...   \n\n                      updated_at  \\\n0    2025-02-04T21:01:19.198079Z   \n1    2025-02-04T21:01:31.178438Z   \n2    2025-02-04T21:01:45.824597Z   \n3    2025-02-04T21:02:01.574495Z   \n4    2025-02-04T21:02:25.475872Z   \n..                           ...   \n498  2025-02-05T00:39:25.801150Z   \n499  2025-02-05T00:39:51.768315Z   \n500  2025-02-05T00:40:36.848624Z   \n501  2025-02-05T00:40:55.916354Z   \n502  2025-02-05T00:41:19.322429Z   \n\n                                            categories  \n0                                        [smoke, pine]  \n1                                   [cedar, red fruit]  \n2             [spices, tobacco, plum, black current, ]  \n3                                 [leather, tobacco, ]  \n4    [truffle, tobacco, licorice, smoke, cedar, bla...  \n..                                                 ...  \n498  [plum, blackberry, chocolate, incense, herb, r...  \n499  [cinnamon, fennel, kumquat, , jackfruit, sichu...  \n500                             [honey, wood, vanilla]  \n501  [honey, with flower, orange, lemon curd, vanil...  \n502                          [lemon, pineapple, peach]  \n\n[491 rows x 11 columns]",
      "text/html": "<div>\n<style scoped>\n    .dataframe tbody tr th:only-of-type {\n        vertical-align: middle;\n    }\n\n    .dataframe tbody tr th {\n        vertical-align: top;\n    }\n\n    .dataframe thead th {\n        text-align: right;\n    }\n</style>\n<table border=\"1\" class=\"dataframe\">\n  <thead>\n    <tr style=\"text-align: right;\">\n      <th></th>\n      <th>annotation_id</th>\n      <th>annotator</th>\n      <th>answer</th>\n      <th>created_at</th>\n      <th>id</th>\n      <th>lang</th>\n      <th>lead_time</th>\n      <th>name</th>\n      <th>text</th>\n      <th>updated_at</th>\n      <th>categories</th>\n    </tr>\n  </thead>\n  <tbody>\n    <tr>\n      <th>0</th>\n      <td>561</td>\n      <td>2</td>\n      <td>smoke\\npine</td>\n      <td>2025-02-01T22:05:51.456011Z</td>\n      <td>4358</td>\n      <td>ch</td>\n      <td>46.185</td>\n      <td>1975 Chateau Giscours</td>\n      <td>The “confident ease” of this wine begins to sp...</td>\n      <td>2025-02-04T21:01:19.198079Z</td>\n      <td>[smoke, pine]</td>\n    </tr>\n    <tr>\n      <th>1</th>\n      <td>562</td>\n      <td>2</td>\n      <td>cedar\\nred fruit</td>\n      <td>2025-02-01T22:06:10.304140Z</td>\n      <td>4359</td>\n      <td>en</td>\n      <td>15.305</td>\n      <td>1975 Chateau Giscours</td>\n      <td>92-94 Looks like a 15, actually 45 years Borde...</td>\n      <td>2025-02-04T21:01:31.178438Z</td>\n      <td>[cedar, red fruit]</td>\n    </tr>\n    <tr>\n      <th>2</th>\n      <td>563</td>\n      <td>2</td>\n      <td>spices\\ntobacco\\nplum\\nblack current\\n</td>\n      <td>2025-02-01T22:11:19.321628Z</td>\n      <td>4360</td>\n      <td>en</td>\n      <td>320.390</td>\n      <td>1985 Chateau Cos d'Estournel</td>\n      <td>Fully developed, the nose, with its spice box,...</td>\n      <td>2025-02-04T21:01:45.824597Z</td>\n      <td>[spices, tobacco, plum, black current, ]</td>\n    </tr>\n    <tr>\n      <th>3</th>\n      <td>564</td>\n      <td>2</td>\n      <td>leather\\ntobacco\\n</td>\n      <td>2025-02-01T22:12:30.155208Z</td>\n      <td>4361</td>\n      <td>ch</td>\n      <td>38.826</td>\n      <td>1985 Chateau Cos d'Estournel</td>\n      <td>The most prominent character of Cos 1985 is th...</td>\n      <td>2025-02-04T21:02:01.574495Z</td>\n      <td>[leather, tobacco, ]</td>\n    </tr>\n    <tr>\n      <th>4</th>\n      <td>565</td>\n      <td>2</td>\n      <td>truffle\\ntobacco\\nlicorice\\nsmoke\\ncedar\\nblac...</td>\n      <td>2025-02-01T22:13:24.439167Z</td>\n      <td>4362</td>\n      <td>en</td>\n      <td>149.550</td>\n      <td>1985 Chateau Gruaud-Larose</td>\n      <td>Fully mature, the seductive nose offers hints ...</td>\n      <td>2025-02-04T21:02:25.475872Z</td>\n      <td>[truffle, tobacco, licorice, smoke, cedar, bla...</td>\n    </tr>\n    <tr>\n      <th>...</th>\n      <td>...</td>\n      <td>...</td>\n      <td>...</td>\n      <td>...</td>\n      <td>...</td>\n      <td>...</td>\n      <td>...</td>\n      <td>...</td>\n      <td>...</td>\n      <td>...</td>\n      <td>...</td>\n    </tr>\n    <tr>\n      <th>498</th>\n      <td>1061</td>\n      <td>2</td>\n      <td>plum\\nblackberry\\nchocolate\\nincense\\nherb\\nro...</td>\n      <td>2025-02-05T00:39:25.801126Z</td>\n      <td>4868</td>\n      <td>en</td>\n      <td>26.571</td>\n      <td>2021 Chateau La Violette</td>\n      <td>Open and with a distinctly Mediterranean profi...</td>\n      <td>2025-02-05T00:39:25.801150Z</td>\n      <td>[plum, blackberry, chocolate, incense, herb, r...</td>\n    </tr>\n    <tr>\n      <th>499</th>\n      <td>1062</td>\n      <td>2</td>\n      <td>cinnamon, fennel, kumquat, and jackfruit\\nsich...</td>\n      <td>2025-02-05T00:39:51.768300Z</td>\n      <td>4869</td>\n      <td>ch</td>\n      <td>20.023</td>\n      <td>2021 Chateau Lafaurie-Peyraguey</td>\n      <td>Lafaurie-Peyraguey boasts a surprisingly great...</td>\n      <td>2025-02-05T00:39:51.768315Z</td>\n      <td>[cinnamon, fennel, kumquat, , jackfruit, sichu...</td>\n    </tr>\n    <tr>\n      <th>500</th>\n      <td>1063</td>\n      <td>2</td>\n      <td>honey\\nwood\\nvanilla</td>\n      <td>2025-02-05T00:40:36.848599Z</td>\n      <td>4870</td>\n      <td>en</td>\n      <td>28.231</td>\n      <td>2021 Chateau Lafaurie-Peyraguey</td>\n      <td>Light greenish yellow, silver reflections. An ...</td>\n      <td>2025-02-05T00:40:36.848624Z</td>\n      <td>[honey, wood, vanilla]</td>\n    </tr>\n    <tr>\n      <th>501</th>\n      <td>1064</td>\n      <td>2</td>\n      <td>honey, with flower, orange, lemon curd, vanil...</td>\n      <td>2025-02-05T00:40:55.916334Z</td>\n      <td>4871</td>\n      <td>en</td>\n      <td>18.269</td>\n      <td>2021 Chateau Lafaurie-Peyraguey</td>\n      <td>Yellow tropical fruits dipped in honey, with f...</td>\n      <td>2025-02-05T00:40:55.916354Z</td>\n      <td>[honey, with flower, orange, lemon curd, vanil...</td>\n    </tr>\n    <tr>\n      <th>502</th>\n      <td>1065</td>\n      <td>2</td>\n      <td>lemon\\npineapple\\npeach</td>\n      <td>2025-02-05T00:41:11.160065Z</td>\n      <td>4872</td>\n      <td>en</td>\n      <td>22.241</td>\n      <td>2021 Chateau Lafaurie-Peyraguey</td>\n      <td>Deep lemon-yellow to pale-gold in color. Aroma...</td>\n      <td>2025-02-05T00:41:19.322429Z</td>\n      <td>[lemon, pineapple, peach]</td>\n    </tr>\n  </tbody>\n</table>\n<p>491 rows × 11 columns</p>\n</div>"
     },
     "execution_count": 8,
     "metadata": {},
     "output_type": "execute_result"
    }
   ],
   "source": [
    "data"
   ],
   "metadata": {
    "collapsed": false,
    "ExecuteTime": {
     "end_time": "2025-05-15T21:34:22.110748Z",
     "start_time": "2025-05-15T21:34:22.105859Z"
    }
   },
   "id": "64e5ea25914b7a77"
  },
  {
   "cell_type": "code",
   "execution_count": 9,
   "outputs": [],
   "source": [
    "# 确保新列存在，并设置 dtype 为 object 以存储 list\n",
    "data['category_1'] = [[] for _ in range(len(data))]\n",
    "data['category_2'] = [[] for _ in range(len(data))]\n",
    "\n",
    "for index, row in data.iterrows():\n",
    "    categories = row['categories']\n",
    "    category_1, category_2 = [], []\n",
    "    \n",
    "    for i in categories:\n",
    "        cat_1, cat_2 = convert_to_category(i)\n",
    "        if cat_1 is not None:\n",
    "            category_1.append(cat_1)\n",
    "            category_2.append(cat_2)\n",
    "\n",
    "    # 直接存入 list，Pandas 需要 object 类型列\n",
    "    data.at[index, 'category_1'] = category_1\n",
    "    data.at[index, 'category_2'] = category_2\n"
   ],
   "metadata": {
    "collapsed": false,
    "ExecuteTime": {
     "end_time": "2025-05-15T21:34:24.254595Z",
     "start_time": "2025-05-15T21:34:24.243312Z"
    }
   },
   "id": "2cab2efb0650876d"
  },
  {
   "cell_type": "code",
   "execution_count": 10,
   "outputs": [
    {
     "data": {
      "text/plain": "     annotation_id  annotator  \\\n0              561          2   \n1              562          2   \n2              563          2   \n3              564          2   \n4              565          2   \n..             ...        ...   \n498           1061          2   \n499           1062          2   \n500           1063          2   \n501           1064          2   \n502           1065          2   \n\n                                                answer  \\\n0                                          smoke\\npine   \n1                                     cedar\\nred fruit   \n2               spices\\ntobacco\\nplum\\nblack current\\n   \n3                                   leather\\ntobacco\\n   \n4    truffle\\ntobacco\\nlicorice\\nsmoke\\ncedar\\nblac...   \n..                                                 ...   \n498  plum\\nblackberry\\nchocolate\\nincense\\nherb\\nro...   \n499  cinnamon, fennel, kumquat, and jackfruit\\nsich...   \n500                               honey\\nwood\\nvanilla   \n501   honey, with flower, orange, lemon curd, vanil...   \n502                            lemon\\npineapple\\npeach   \n\n                      created_at    id lang  lead_time  \\\n0    2025-02-01T22:05:51.456011Z  4358   ch     46.185   \n1    2025-02-01T22:06:10.304140Z  4359   en     15.305   \n2    2025-02-01T22:11:19.321628Z  4360   en    320.390   \n3    2025-02-01T22:12:30.155208Z  4361   ch     38.826   \n4    2025-02-01T22:13:24.439167Z  4362   en    149.550   \n..                           ...   ...  ...        ...   \n498  2025-02-05T00:39:25.801126Z  4868   en     26.571   \n499  2025-02-05T00:39:51.768300Z  4869   ch     20.023   \n500  2025-02-05T00:40:36.848599Z  4870   en     28.231   \n501  2025-02-05T00:40:55.916334Z  4871   en     18.269   \n502  2025-02-05T00:41:11.160065Z  4872   en     22.241   \n\n                                name  \\\n0              1975 Chateau Giscours   \n1              1975 Chateau Giscours   \n2       1985 Chateau Cos d'Estournel   \n3       1985 Chateau Cos d'Estournel   \n4         1985 Chateau Gruaud-Larose   \n..                               ...   \n498         2021 Chateau La Violette   \n499  2021 Chateau Lafaurie-Peyraguey   \n500  2021 Chateau Lafaurie-Peyraguey   \n501  2021 Chateau Lafaurie-Peyraguey   \n502  2021 Chateau Lafaurie-Peyraguey   \n\n                                                  text  \\\n0    The “confident ease” of this wine begins to sp...   \n1    92-94 Looks like a 15, actually 45 years Borde...   \n2    Fully developed, the nose, with its spice box,...   \n3    The most prominent character of Cos 1985 is th...   \n4    Fully mature, the seductive nose offers hints ...   \n..                                                 ...   \n498  Open and with a distinctly Mediterranean profi...   \n499  Lafaurie-Peyraguey boasts a surprisingly great...   \n500  Light greenish yellow, silver reflections. An ...   \n501  Yellow tropical fruits dipped in honey, with f...   \n502  Deep lemon-yellow to pale-gold in color. Aroma...   \n\n                      updated_at  \\\n0    2025-02-04T21:01:19.198079Z   \n1    2025-02-04T21:01:31.178438Z   \n2    2025-02-04T21:01:45.824597Z   \n3    2025-02-04T21:02:01.574495Z   \n4    2025-02-04T21:02:25.475872Z   \n..                           ...   \n498  2025-02-05T00:39:25.801150Z   \n499  2025-02-05T00:39:51.768315Z   \n500  2025-02-05T00:40:36.848624Z   \n501  2025-02-05T00:40:55.916354Z   \n502  2025-02-05T00:41:19.322429Z   \n\n                                            categories  \\\n0                                        [smoke, pine]   \n1                                   [cedar, red fruit]   \n2             [spices, tobacco, plum, black current, ]   \n3                                 [leather, tobacco, ]   \n4    [truffle, tobacco, licorice, smoke, cedar, bla...   \n..                                                 ...   \n498  [plum, blackberry, chocolate, incense, herb, r...   \n499  [cinnamon, fennel, kumquat, , jackfruit, sichu...   \n500                             [honey, wood, vanilla]   \n501  [honey, with flower, orange, lemon curd, vanil...   \n502                          [lemon, pineapple, peach]   \n\n                                            category_1  \\\n0                                     [toasted, woods]   \n1                                   [woods, red fruit]   \n2            [spices, herbs, stone fruit, red berries]   \n3                                      [animal, herbs]   \n4    [undergrowth, herbs, spices, toasted, woods, r...   \n..                                                 ...   \n498  [stone fruit, red berries, toasted, herbs, col...   \n499                            [spices, fruit, spices]   \n500                                    [woods, spices]   \n501                          [flowers, citrus, spices]   \n502                       [citrus, woods, stone fruit]   \n\n                                            category_2  \n0    [maturation in oak barrel, maturation in oak b...  \n1                    [maturation in oak barrel, fruit]  \n2    [maturation in oak barrel, vegetal, fruit, fruit]  \n3                             [aged red wine, vegetal]  \n4    [aged red wine, vegetal, maturation in oak bar...  \n..                                                 ...  \n498  [fruit, fruit, maturation in oak barrel, veget...  \n499  [maturation in oak barrel, fruit, maturation i...  \n500  [maturation in oak barrel, maturation in oak b...  \n501          [floral, fruit, maturation in oak barrel]  \n502           [fruit, maturation in oak barrel, fruit]  \n\n[491 rows x 13 columns]",
      "text/html": "<div>\n<style scoped>\n    .dataframe tbody tr th:only-of-type {\n        vertical-align: middle;\n    }\n\n    .dataframe tbody tr th {\n        vertical-align: top;\n    }\n\n    .dataframe thead th {\n        text-align: right;\n    }\n</style>\n<table border=\"1\" class=\"dataframe\">\n  <thead>\n    <tr style=\"text-align: right;\">\n      <th></th>\n      <th>annotation_id</th>\n      <th>annotator</th>\n      <th>answer</th>\n      <th>created_at</th>\n      <th>id</th>\n      <th>lang</th>\n      <th>lead_time</th>\n      <th>name</th>\n      <th>text</th>\n      <th>updated_at</th>\n      <th>categories</th>\n      <th>category_1</th>\n      <th>category_2</th>\n    </tr>\n  </thead>\n  <tbody>\n    <tr>\n      <th>0</th>\n      <td>561</td>\n      <td>2</td>\n      <td>smoke\\npine</td>\n      <td>2025-02-01T22:05:51.456011Z</td>\n      <td>4358</td>\n      <td>ch</td>\n      <td>46.185</td>\n      <td>1975 Chateau Giscours</td>\n      <td>The “confident ease” of this wine begins to sp...</td>\n      <td>2025-02-04T21:01:19.198079Z</td>\n      <td>[smoke, pine]</td>\n      <td>[toasted, woods]</td>\n      <td>[maturation in oak barrel, maturation in oak b...</td>\n    </tr>\n    <tr>\n      <th>1</th>\n      <td>562</td>\n      <td>2</td>\n      <td>cedar\\nred fruit</td>\n      <td>2025-02-01T22:06:10.304140Z</td>\n      <td>4359</td>\n      <td>en</td>\n      <td>15.305</td>\n      <td>1975 Chateau Giscours</td>\n      <td>92-94 Looks like a 15, actually 45 years Borde...</td>\n      <td>2025-02-04T21:01:31.178438Z</td>\n      <td>[cedar, red fruit]</td>\n      <td>[woods, red fruit]</td>\n      <td>[maturation in oak barrel, fruit]</td>\n    </tr>\n    <tr>\n      <th>2</th>\n      <td>563</td>\n      <td>2</td>\n      <td>spices\\ntobacco\\nplum\\nblack current\\n</td>\n      <td>2025-02-01T22:11:19.321628Z</td>\n      <td>4360</td>\n      <td>en</td>\n      <td>320.390</td>\n      <td>1985 Chateau Cos d'Estournel</td>\n      <td>Fully developed, the nose, with its spice box,...</td>\n      <td>2025-02-04T21:01:45.824597Z</td>\n      <td>[spices, tobacco, plum, black current, ]</td>\n      <td>[spices, herbs, stone fruit, red berries]</td>\n      <td>[maturation in oak barrel, vegetal, fruit, fruit]</td>\n    </tr>\n    <tr>\n      <th>3</th>\n      <td>564</td>\n      <td>2</td>\n      <td>leather\\ntobacco\\n</td>\n      <td>2025-02-01T22:12:30.155208Z</td>\n      <td>4361</td>\n      <td>ch</td>\n      <td>38.826</td>\n      <td>1985 Chateau Cos d'Estournel</td>\n      <td>The most prominent character of Cos 1985 is th...</td>\n      <td>2025-02-04T21:02:01.574495Z</td>\n      <td>[leather, tobacco, ]</td>\n      <td>[animal, herbs]</td>\n      <td>[aged red wine, vegetal]</td>\n    </tr>\n    <tr>\n      <th>4</th>\n      <td>565</td>\n      <td>2</td>\n      <td>truffle\\ntobacco\\nlicorice\\nsmoke\\ncedar\\nblac...</td>\n      <td>2025-02-01T22:13:24.439167Z</td>\n      <td>4362</td>\n      <td>en</td>\n      <td>149.550</td>\n      <td>1985 Chateau Gruaud-Larose</td>\n      <td>Fully mature, the seductive nose offers hints ...</td>\n      <td>2025-02-04T21:02:25.475872Z</td>\n      <td>[truffle, tobacco, licorice, smoke, cedar, bla...</td>\n      <td>[undergrowth, herbs, spices, toasted, woods, r...</td>\n      <td>[aged red wine, vegetal, maturation in oak bar...</td>\n    </tr>\n    <tr>\n      <th>...</th>\n      <td>...</td>\n      <td>...</td>\n      <td>...</td>\n      <td>...</td>\n      <td>...</td>\n      <td>...</td>\n      <td>...</td>\n      <td>...</td>\n      <td>...</td>\n      <td>...</td>\n      <td>...</td>\n      <td>...</td>\n      <td>...</td>\n    </tr>\n    <tr>\n      <th>498</th>\n      <td>1061</td>\n      <td>2</td>\n      <td>plum\\nblackberry\\nchocolate\\nincense\\nherb\\nro...</td>\n      <td>2025-02-05T00:39:25.801126Z</td>\n      <td>4868</td>\n      <td>en</td>\n      <td>26.571</td>\n      <td>2021 Chateau La Violette</td>\n      <td>Open and with a distinctly Mediterranean profi...</td>\n      <td>2025-02-05T00:39:25.801150Z</td>\n      <td>[plum, blackberry, chocolate, incense, herb, r...</td>\n      <td>[stone fruit, red berries, toasted, herbs, col...</td>\n      <td>[fruit, fruit, maturation in oak barrel, veget...</td>\n    </tr>\n    <tr>\n      <th>499</th>\n      <td>1062</td>\n      <td>2</td>\n      <td>cinnamon, fennel, kumquat, and jackfruit\\nsich...</td>\n      <td>2025-02-05T00:39:51.768300Z</td>\n      <td>4869</td>\n      <td>ch</td>\n      <td>20.023</td>\n      <td>2021 Chateau Lafaurie-Peyraguey</td>\n      <td>Lafaurie-Peyraguey boasts a surprisingly great...</td>\n      <td>2025-02-05T00:39:51.768315Z</td>\n      <td>[cinnamon, fennel, kumquat, , jackfruit, sichu...</td>\n      <td>[spices, fruit, spices]</td>\n      <td>[maturation in oak barrel, fruit, maturation i...</td>\n    </tr>\n    <tr>\n      <th>500</th>\n      <td>1063</td>\n      <td>2</td>\n      <td>honey\\nwood\\nvanilla</td>\n      <td>2025-02-05T00:40:36.848599Z</td>\n      <td>4870</td>\n      <td>en</td>\n      <td>28.231</td>\n      <td>2021 Chateau Lafaurie-Peyraguey</td>\n      <td>Light greenish yellow, silver reflections. An ...</td>\n      <td>2025-02-05T00:40:36.848624Z</td>\n      <td>[honey, wood, vanilla]</td>\n      <td>[woods, spices]</td>\n      <td>[maturation in oak barrel, maturation in oak b...</td>\n    </tr>\n    <tr>\n      <th>501</th>\n      <td>1064</td>\n      <td>2</td>\n      <td>honey, with flower, orange, lemon curd, vanil...</td>\n      <td>2025-02-05T00:40:55.916334Z</td>\n      <td>4871</td>\n      <td>en</td>\n      <td>18.269</td>\n      <td>2021 Chateau Lafaurie-Peyraguey</td>\n      <td>Yellow tropical fruits dipped in honey, with f...</td>\n      <td>2025-02-05T00:40:55.916354Z</td>\n      <td>[honey, with flower, orange, lemon curd, vanil...</td>\n      <td>[flowers, citrus, spices]</td>\n      <td>[floral, fruit, maturation in oak barrel]</td>\n    </tr>\n    <tr>\n      <th>502</th>\n      <td>1065</td>\n      <td>2</td>\n      <td>lemon\\npineapple\\npeach</td>\n      <td>2025-02-05T00:41:11.160065Z</td>\n      <td>4872</td>\n      <td>en</td>\n      <td>22.241</td>\n      <td>2021 Chateau Lafaurie-Peyraguey</td>\n      <td>Deep lemon-yellow to pale-gold in color. Aroma...</td>\n      <td>2025-02-05T00:41:19.322429Z</td>\n      <td>[lemon, pineapple, peach]</td>\n      <td>[citrus, woods, stone fruit]</td>\n      <td>[fruit, maturation in oak barrel, fruit]</td>\n    </tr>\n  </tbody>\n</table>\n<p>491 rows × 13 columns</p>\n</div>"
     },
     "execution_count": 10,
     "metadata": {},
     "output_type": "execute_result"
    }
   ],
   "source": [
    "data"
   ],
   "metadata": {
    "collapsed": false,
    "ExecuteTime": {
     "end_time": "2025-05-15T21:34:25.298466Z",
     "start_time": "2025-05-15T21:34:25.295400Z"
    }
   },
   "id": "2c5ca1fbc894f0b2"
  },
  {
   "cell_type": "code",
   "execution_count": 17,
   "outputs": [],
   "source": [
    "from itertools import combinations\n",
    "import pandas as pd\n",
    "\n",
    "# 确保 category_1 中的列表去重\n",
    "data['category_1'] = data['category_1'].apply(lambda x: list(set(x)) if isinstance(x, list) else [])\n",
    "data['category_2'] = data['category_2'].apply(lambda x: list(set(x)) if isinstance(x, list) else [])\n",
    "\n",
    "# 存储 Jaccard 结果的字典\n",
    "group_avg_jaccard = {}\n",
    "\n",
    "# 按名字分组\n",
    "grouped = data.groupby('name')\n",
    "\n",
    "for name, group in grouped:\n",
    "    indices = group.index.tolist()\n",
    "    category_lists = group['category_2'].tolist()  # 计算 category_1 的 Jaccard 相似度\n",
    "\n",
    "    jaccard_values = []\n",
    "    \n",
    "    # 计算组内 Jaccard 相似度\n",
    "    for (cat1, cat2) in combinations(category_lists, 2):\n",
    "        set1, set2 = set(cat1), set(cat2)  # **去重**\n",
    "        if set1 and set2:\n",
    "            jaccard_sim = len(set1 & set2) / len(set1 | set2)\n",
    "        else:\n",
    "            jaccard_sim = 0  # 避免空集问题\n",
    "        \n",
    "        jaccard_values.append(jaccard_sim)\n",
    "    \n",
    "    # 计算该组的平均 Jaccard 相似度\n",
    "    avg_jaccard = sum(jaccard_values) / len(jaccard_values) if jaccard_values else 0\n",
    "    group_avg_jaccard[name] = avg_jaccard\n",
    "\n",
    "# 将平均 Jaccard 相似度存入 DataFrame\n",
    "data['avg_jaccard_similarity'] = data['name'].map(group_avg_jaccard)\n",
    "\n"
   ],
   "metadata": {
    "collapsed": false,
    "ExecuteTime": {
     "end_time": "2025-05-15T21:36:16.014695Z",
     "start_time": "2025-05-15T21:36:16.004561Z"
    }
   },
   "id": "1b5c5b0bba848893"
  },
  {
   "cell_type": "code",
   "execution_count": 18,
   "outputs": [
    {
     "data": {
      "text/plain": "0.4044014482914687"
     },
     "execution_count": 18,
     "metadata": {},
     "output_type": "execute_result"
    }
   ],
   "source": [
    "data['avg_jaccard_similarity'].mean()"
   ],
   "metadata": {
    "collapsed": false,
    "ExecuteTime": {
     "end_time": "2025-05-15T21:36:16.496958Z",
     "start_time": "2025-05-15T21:36:16.490309Z"
    }
   },
   "id": "67b9ea1053f32524"
  },
  {
   "cell_type": "code",
   "execution_count": 19,
   "outputs": [
    {
     "data": {
      "text/plain": "     annotation_id  annotator  \\\n0              561          2   \n1              562          2   \n2              563          2   \n3              564          2   \n4              565          2   \n..             ...        ...   \n498           1061          2   \n499           1062          2   \n500           1063          2   \n501           1064          2   \n502           1065          2   \n\n                                                answer  \\\n0                                          smoke\\npine   \n1                                     cedar\\nred fruit   \n2               spices\\ntobacco\\nplum\\nblack current\\n   \n3                                   leather\\ntobacco\\n   \n4    truffle\\ntobacco\\nlicorice\\nsmoke\\ncedar\\nblac...   \n..                                                 ...   \n498  plum\\nblackberry\\nchocolate\\nincense\\nherb\\nro...   \n499  cinnamon, fennel, kumquat, and jackfruit\\nsich...   \n500                               honey\\nwood\\nvanilla   \n501   honey, with flower, orange, lemon curd, vanil...   \n502                            lemon\\npineapple\\npeach   \n\n                      created_at    id lang  lead_time  \\\n0    2025-02-01T22:05:51.456011Z  4358   ch     46.185   \n1    2025-02-01T22:06:10.304140Z  4359   en     15.305   \n2    2025-02-01T22:11:19.321628Z  4360   en    320.390   \n3    2025-02-01T22:12:30.155208Z  4361   ch     38.826   \n4    2025-02-01T22:13:24.439167Z  4362   en    149.550   \n..                           ...   ...  ...        ...   \n498  2025-02-05T00:39:25.801126Z  4868   en     26.571   \n499  2025-02-05T00:39:51.768300Z  4869   ch     20.023   \n500  2025-02-05T00:40:36.848599Z  4870   en     28.231   \n501  2025-02-05T00:40:55.916334Z  4871   en     18.269   \n502  2025-02-05T00:41:11.160065Z  4872   en     22.241   \n\n                                name  \\\n0              1975 Chateau Giscours   \n1              1975 Chateau Giscours   \n2       1985 Chateau Cos d'Estournel   \n3       1985 Chateau Cos d'Estournel   \n4         1985 Chateau Gruaud-Larose   \n..                               ...   \n498         2021 Chateau La Violette   \n499  2021 Chateau Lafaurie-Peyraguey   \n500  2021 Chateau Lafaurie-Peyraguey   \n501  2021 Chateau Lafaurie-Peyraguey   \n502  2021 Chateau Lafaurie-Peyraguey   \n\n                                                  text  \\\n0    The “confident ease” of this wine begins to sp...   \n1    92-94 Looks like a 15, actually 45 years Borde...   \n2    Fully developed, the nose, with its spice box,...   \n3    The most prominent character of Cos 1985 is th...   \n4    Fully mature, the seductive nose offers hints ...   \n..                                                 ...   \n498  Open and with a distinctly Mediterranean profi...   \n499  Lafaurie-Peyraguey boasts a surprisingly great...   \n500  Light greenish yellow, silver reflections. An ...   \n501  Yellow tropical fruits dipped in honey, with f...   \n502  Deep lemon-yellow to pale-gold in color. Aroma...   \n\n                      updated_at  \\\n0    2025-02-04T21:01:19.198079Z   \n1    2025-02-04T21:01:31.178438Z   \n2    2025-02-04T21:01:45.824597Z   \n3    2025-02-04T21:02:01.574495Z   \n4    2025-02-04T21:02:25.475872Z   \n..                           ...   \n498  2025-02-05T00:39:25.801150Z   \n499  2025-02-05T00:39:51.768315Z   \n500  2025-02-05T00:40:36.848624Z   \n501  2025-02-05T00:40:55.916354Z   \n502  2025-02-05T00:41:19.322429Z   \n\n                                            categories  \\\n0                                        [smoke, pine]   \n1                                   [cedar, red fruit]   \n2             [spices, tobacco, plum, black current, ]   \n3                                 [leather, tobacco, ]   \n4    [truffle, tobacco, licorice, smoke, cedar, bla...   \n..                                                 ...   \n498  [plum, blackberry, chocolate, incense, herb, r...   \n499  [cinnamon, fennel, kumquat, , jackfruit, sichu...   \n500                             [honey, wood, vanilla]   \n501  [honey, with flower, orange, lemon curd, vanil...   \n502                          [lemon, pineapple, peach]   \n\n                                            category_1  \\\n0                                     [toasted, woods]   \n1                                   [red fruit, woods]   \n2            [herbs, spices, red berries, stone fruit]   \n3                                      [herbs, animal]   \n4    [red berries, spices, undergrowth, toasted, he...   \n..                                                 ...   \n498  [red berries, stone fruit, colored flowers, to...   \n499                                    [spices, fruit]   \n500                                    [spices, woods]   \n501                          [flowers, citrus, spices]   \n502                       [citrus, woods, stone fruit]   \n\n                                            category_2  \\\n0                           [maturation in oak barrel]   \n1                    [maturation in oak barrel, fruit]   \n2           [maturation in oak barrel, fruit, vegetal]   \n3                             [vegetal, aged red wine]   \n4    [maturation in oak barrel, fruit, aged red win...   \n..                                                 ...   \n498  [maturation in oak barrel, fruit, floral, vege...   \n499                  [maturation in oak barrel, fruit]   \n500                         [maturation in oak barrel]   \n501          [maturation in oak barrel, fruit, floral]   \n502                  [maturation in oak barrel, fruit]   \n\n     avg_jaccard_similarity  avg_en_jaccard_similarity  \\\n0                  0.500000                   0.000000   \n1                  0.500000                   0.000000   \n2                  0.250000                   0.000000   \n3                  0.250000                   0.000000   \n4                  0.250000                   0.333333   \n..                      ...                        ...   \n498                0.533333                   0.250000   \n499                0.611111                   0.233333   \n500                0.611111                   0.233333   \n501                0.611111                   0.233333   \n502                0.611111                   0.233333   \n\n     avg_ch_en_jaccard_similarity  \n0                        0.333333  \n1                        0.333333  \n2                        0.200000  \n3                        0.200000  \n4                        0.083333  \n..                            ...  \n498                      0.333333  \n499                      0.194444  \n500                      0.194444  \n501                      0.194444  \n502                      0.194444  \n\n[491 rows x 16 columns]",
      "text/html": "<div>\n<style scoped>\n    .dataframe tbody tr th:only-of-type {\n        vertical-align: middle;\n    }\n\n    .dataframe tbody tr th {\n        vertical-align: top;\n    }\n\n    .dataframe thead th {\n        text-align: right;\n    }\n</style>\n<table border=\"1\" class=\"dataframe\">\n  <thead>\n    <tr style=\"text-align: right;\">\n      <th></th>\n      <th>annotation_id</th>\n      <th>annotator</th>\n      <th>answer</th>\n      <th>created_at</th>\n      <th>id</th>\n      <th>lang</th>\n      <th>lead_time</th>\n      <th>name</th>\n      <th>text</th>\n      <th>updated_at</th>\n      <th>categories</th>\n      <th>category_1</th>\n      <th>category_2</th>\n      <th>avg_jaccard_similarity</th>\n      <th>avg_en_jaccard_similarity</th>\n      <th>avg_ch_en_jaccard_similarity</th>\n    </tr>\n  </thead>\n  <tbody>\n    <tr>\n      <th>0</th>\n      <td>561</td>\n      <td>2</td>\n      <td>smoke\\npine</td>\n      <td>2025-02-01T22:05:51.456011Z</td>\n      <td>4358</td>\n      <td>ch</td>\n      <td>46.185</td>\n      <td>1975 Chateau Giscours</td>\n      <td>The “confident ease” of this wine begins to sp...</td>\n      <td>2025-02-04T21:01:19.198079Z</td>\n      <td>[smoke, pine]</td>\n      <td>[toasted, woods]</td>\n      <td>[maturation in oak barrel]</td>\n      <td>0.500000</td>\n      <td>0.000000</td>\n      <td>0.333333</td>\n    </tr>\n    <tr>\n      <th>1</th>\n      <td>562</td>\n      <td>2</td>\n      <td>cedar\\nred fruit</td>\n      <td>2025-02-01T22:06:10.304140Z</td>\n      <td>4359</td>\n      <td>en</td>\n      <td>15.305</td>\n      <td>1975 Chateau Giscours</td>\n      <td>92-94 Looks like a 15, actually 45 years Borde...</td>\n      <td>2025-02-04T21:01:31.178438Z</td>\n      <td>[cedar, red fruit]</td>\n      <td>[red fruit, woods]</td>\n      <td>[maturation in oak barrel, fruit]</td>\n      <td>0.500000</td>\n      <td>0.000000</td>\n      <td>0.333333</td>\n    </tr>\n    <tr>\n      <th>2</th>\n      <td>563</td>\n      <td>2</td>\n      <td>spices\\ntobacco\\nplum\\nblack current\\n</td>\n      <td>2025-02-01T22:11:19.321628Z</td>\n      <td>4360</td>\n      <td>en</td>\n      <td>320.390</td>\n      <td>1985 Chateau Cos d'Estournel</td>\n      <td>Fully developed, the nose, with its spice box,...</td>\n      <td>2025-02-04T21:01:45.824597Z</td>\n      <td>[spices, tobacco, plum, black current, ]</td>\n      <td>[herbs, spices, red berries, stone fruit]</td>\n      <td>[maturation in oak barrel, fruit, vegetal]</td>\n      <td>0.250000</td>\n      <td>0.000000</td>\n      <td>0.200000</td>\n    </tr>\n    <tr>\n      <th>3</th>\n      <td>564</td>\n      <td>2</td>\n      <td>leather\\ntobacco\\n</td>\n      <td>2025-02-01T22:12:30.155208Z</td>\n      <td>4361</td>\n      <td>ch</td>\n      <td>38.826</td>\n      <td>1985 Chateau Cos d'Estournel</td>\n      <td>The most prominent character of Cos 1985 is th...</td>\n      <td>2025-02-04T21:02:01.574495Z</td>\n      <td>[leather, tobacco, ]</td>\n      <td>[herbs, animal]</td>\n      <td>[vegetal, aged red wine]</td>\n      <td>0.250000</td>\n      <td>0.000000</td>\n      <td>0.200000</td>\n    </tr>\n    <tr>\n      <th>4</th>\n      <td>565</td>\n      <td>2</td>\n      <td>truffle\\ntobacco\\nlicorice\\nsmoke\\ncedar\\nblac...</td>\n      <td>2025-02-01T22:13:24.439167Z</td>\n      <td>4362</td>\n      <td>en</td>\n      <td>149.550</td>\n      <td>1985 Chateau Gruaud-Larose</td>\n      <td>Fully mature, the seductive nose offers hints ...</td>\n      <td>2025-02-04T21:02:25.475872Z</td>\n      <td>[truffle, tobacco, licorice, smoke, cedar, bla...</td>\n      <td>[red berries, spices, undergrowth, toasted, he...</td>\n      <td>[maturation in oak barrel, fruit, aged red win...</td>\n      <td>0.250000</td>\n      <td>0.333333</td>\n      <td>0.083333</td>\n    </tr>\n    <tr>\n      <th>...</th>\n      <td>...</td>\n      <td>...</td>\n      <td>...</td>\n      <td>...</td>\n      <td>...</td>\n      <td>...</td>\n      <td>...</td>\n      <td>...</td>\n      <td>...</td>\n      <td>...</td>\n      <td>...</td>\n      <td>...</td>\n      <td>...</td>\n      <td>...</td>\n      <td>...</td>\n      <td>...</td>\n    </tr>\n    <tr>\n      <th>498</th>\n      <td>1061</td>\n      <td>2</td>\n      <td>plum\\nblackberry\\nchocolate\\nincense\\nherb\\nro...</td>\n      <td>2025-02-05T00:39:25.801126Z</td>\n      <td>4868</td>\n      <td>en</td>\n      <td>26.571</td>\n      <td>2021 Chateau La Violette</td>\n      <td>Open and with a distinctly Mediterranean profi...</td>\n      <td>2025-02-05T00:39:25.801150Z</td>\n      <td>[plum, blackberry, chocolate, incense, herb, r...</td>\n      <td>[red berries, stone fruit, colored flowers, to...</td>\n      <td>[maturation in oak barrel, fruit, floral, vege...</td>\n      <td>0.533333</td>\n      <td>0.250000</td>\n      <td>0.333333</td>\n    </tr>\n    <tr>\n      <th>499</th>\n      <td>1062</td>\n      <td>2</td>\n      <td>cinnamon, fennel, kumquat, and jackfruit\\nsich...</td>\n      <td>2025-02-05T00:39:51.768300Z</td>\n      <td>4869</td>\n      <td>ch</td>\n      <td>20.023</td>\n      <td>2021 Chateau Lafaurie-Peyraguey</td>\n      <td>Lafaurie-Peyraguey boasts a surprisingly great...</td>\n      <td>2025-02-05T00:39:51.768315Z</td>\n      <td>[cinnamon, fennel, kumquat, , jackfruit, sichu...</td>\n      <td>[spices, fruit]</td>\n      <td>[maturation in oak barrel, fruit]</td>\n      <td>0.611111</td>\n      <td>0.233333</td>\n      <td>0.194444</td>\n    </tr>\n    <tr>\n      <th>500</th>\n      <td>1063</td>\n      <td>2</td>\n      <td>honey\\nwood\\nvanilla</td>\n      <td>2025-02-05T00:40:36.848599Z</td>\n      <td>4870</td>\n      <td>en</td>\n      <td>28.231</td>\n      <td>2021 Chateau Lafaurie-Peyraguey</td>\n      <td>Light greenish yellow, silver reflections. An ...</td>\n      <td>2025-02-05T00:40:36.848624Z</td>\n      <td>[honey, wood, vanilla]</td>\n      <td>[spices, woods]</td>\n      <td>[maturation in oak barrel]</td>\n      <td>0.611111</td>\n      <td>0.233333</td>\n      <td>0.194444</td>\n    </tr>\n    <tr>\n      <th>501</th>\n      <td>1064</td>\n      <td>2</td>\n      <td>honey, with flower, orange, lemon curd, vanil...</td>\n      <td>2025-02-05T00:40:55.916334Z</td>\n      <td>4871</td>\n      <td>en</td>\n      <td>18.269</td>\n      <td>2021 Chateau Lafaurie-Peyraguey</td>\n      <td>Yellow tropical fruits dipped in honey, with f...</td>\n      <td>2025-02-05T00:40:55.916354Z</td>\n      <td>[honey, with flower, orange, lemon curd, vanil...</td>\n      <td>[flowers, citrus, spices]</td>\n      <td>[maturation in oak barrel, fruit, floral]</td>\n      <td>0.611111</td>\n      <td>0.233333</td>\n      <td>0.194444</td>\n    </tr>\n    <tr>\n      <th>502</th>\n      <td>1065</td>\n      <td>2</td>\n      <td>lemon\\npineapple\\npeach</td>\n      <td>2025-02-05T00:41:11.160065Z</td>\n      <td>4872</td>\n      <td>en</td>\n      <td>22.241</td>\n      <td>2021 Chateau Lafaurie-Peyraguey</td>\n      <td>Deep lemon-yellow to pale-gold in color. Aroma...</td>\n      <td>2025-02-05T00:41:19.322429Z</td>\n      <td>[lemon, pineapple, peach]</td>\n      <td>[citrus, woods, stone fruit]</td>\n      <td>[maturation in oak barrel, fruit]</td>\n      <td>0.611111</td>\n      <td>0.233333</td>\n      <td>0.194444</td>\n    </tr>\n  </tbody>\n</table>\n<p>491 rows × 16 columns</p>\n</div>"
     },
     "execution_count": 19,
     "metadata": {},
     "output_type": "execute_result"
    }
   ],
   "source": [
    "data"
   ],
   "metadata": {
    "collapsed": false,
    "ExecuteTime": {
     "end_time": "2025-05-15T21:36:16.940011Z",
     "start_time": "2025-05-15T21:36:16.936659Z"
    }
   },
   "id": "2b8804a6f2eb008e"
  },
  {
   "cell_type": "code",
   "execution_count": 21,
   "outputs": [
    {
     "data": {
      "text/plain": "(0.3380629101606698, 0.3713679565512559)"
     },
     "execution_count": 21,
     "metadata": {},
     "output_type": "execute_result"
    }
   ],
   "source": [
    "from itertools import combinations\n",
    "import pandas as pd\n",
    "\n",
    "# 确保 category_1 去重\n",
    "data['category_1'] = data['category_1'].apply(lambda x: list(set(x)) if isinstance(x, list) else [])\n",
    "data['category_2'] = data['category_2'].apply(lambda x: list(set(x)) if isinstance(x, list) else [])\n",
    "\n",
    "# 存储 Jaccard 结果的字典\n",
    "group_jaccard_en = {}  # en 内部相似度\n",
    "group_jaccard_ch_en = {}  # ch 和 en 之间的相似度\n",
    "\n",
    "# 按名字分组\n",
    "grouped = data.groupby('name')\n",
    "\n",
    "for name, group in grouped:\n",
    "    # 按 lang 分类\n",
    "    en_group = group[group['lang'] == 'en']\n",
    "    ch_group = group[group['lang'] == 'ch']\n",
    "    \n",
    "    en_indices = en_group.index.tolist()\n",
    "    ch_indices = ch_group.index.tolist()\n",
    "    \n",
    "    en_category_lists = en_group['category_2'].tolist()\n",
    "    ch_category_lists = ch_group['category_2'].tolist()  # ch 只有 1 条数据\n",
    "\n",
    "    # 计算英文内部相似度\n",
    "    en_jaccard_values = []\n",
    "    for (cat1, cat2) in combinations(en_category_lists, 2):\n",
    "        set1, set2 = set(cat1), set(cat2)\n",
    "        if set1 and set2:\n",
    "            jaccard_sim = len(set1 & set2) / len(set1 | set2)\n",
    "        else:\n",
    "            jaccard_sim = 0\n",
    "        en_jaccard_values.append(jaccard_sim)\n",
    "\n",
    "    avg_en_jaccard = sum(en_jaccard_values) / len(en_jaccard_values) if en_jaccard_values else 0\n",
    "    group_jaccard_en[name] = avg_en_jaccard\n",
    "\n",
    "    # 计算 ch 和 en 之间的相似度\n",
    "    ch_en_jaccard_values = []\n",
    "    if ch_category_lists and en_category_lists:\n",
    "        ch_set = set(ch_category_lists[0])  # 只有一条\n",
    "        for en_cat in en_category_lists:\n",
    "            en_set = set(en_cat)\n",
    "            if ch_set and en_set:\n",
    "                jaccard_sim = len(ch_set & en_set) / len(ch_set | en_set)\n",
    "            else:\n",
    "                jaccard_sim = 0\n",
    "            ch_en_jaccard_values.append(jaccard_sim)\n",
    "\n",
    "    avg_ch_en_jaccard = sum(ch_en_jaccard_values) / len(ch_en_jaccard_values) if ch_en_jaccard_values else 0\n",
    "    group_jaccard_ch_en[name] = avg_ch_en_jaccard\n",
    "\n",
    "# 将结果存入 DataFrame\n",
    "data['avg_en_jaccard_similarity'] = data['name'].map(group_jaccard_en)\n",
    "data['avg_ch_en_jaccard_similarity'] = data['name'].map(group_jaccard_ch_en)\n",
    "\n",
    "data['avg_en_jaccard_similarity'].mean(), data['avg_ch_en_jaccard_similarity'].mean()\n"
   ],
   "metadata": {
    "collapsed": false,
    "ExecuteTime": {
     "end_time": "2025-05-15T21:38:52.356621Z",
     "start_time": "2025-05-15T21:38:52.306056Z"
    }
   },
   "id": "fd0538bd4a4584f4"
  },
  {
   "cell_type": "code",
   "execution_count": 30,
   "outputs": [],
   "source": [
    "import json\n",
    "def read_json(file_name):\n",
    "    with open(file_name, 'r', encoding='utf-8') as f:\n",
    "        data = json.load(f)\n",
    "    return data\n",
    "\n",
    "en_data = read_json('../data/merge_data_language.json')"
   ],
   "metadata": {
    "collapsed": false,
    "ExecuteTime": {
     "end_time": "2025-05-17T10:28:59.433691Z",
     "start_time": "2025-05-17T10:28:59.307304Z"
    }
   },
   "id": "41133b03bc0489e6"
  },
  {
   "cell_type": "code",
   "execution_count": 40,
   "outputs": [],
   "source": [
    "cn_reviews = []\n",
    "en_reviews = []\n",
    "for key, value in en_data.items():\n",
    "    Western_reviews = value['Western_reviews']\n",
    "    Chinese_reviews = value['Chinese reviews']\n",
    "    for review in Chinese_reviews:\n",
    "        if review['English review'] is not None:\n",
    "            cn_reviews.append(review['English review'])\n",
    "    for review in Western_reviews:\n",
    "        language = review['language']\n",
    "        if language == 'en':\n",
    "            en_reviews.append(review['review'])"
   ],
   "metadata": {
    "collapsed": false,
    "ExecuteTime": {
     "end_time": "2025-05-17T10:32:08.528170Z",
     "start_time": "2025-05-17T10:32:08.518648Z"
    }
   },
   "id": "d0a400669f171d8"
  },
  {
   "cell_type": "code",
   "execution_count": 41,
   "outputs": [],
   "source": [
    "cn_reviews_count = {}\n",
    "en_reviews_count = {}\n",
    "\n",
    "for review in cn_reviews:\n",
    "    review = review.lower()\n",
    "    for word in categories_res.keys():\n",
    "        if word in review:\n",
    "            if word not in cn_reviews_count:\n",
    "                cn_reviews_count[word] = 1\n",
    "            else:\n",
    "                cn_reviews_count[word] += 1"
   ],
   "metadata": {
    "collapsed": false,
    "ExecuteTime": {
     "end_time": "2025-05-17T10:32:09.440079Z",
     "start_time": "2025-05-17T10:32:09.069635Z"
    }
   },
   "id": "a646c7b437233c31"
  },
  {
   "cell_type": "code",
   "execution_count": 42,
   "outputs": [
    {
     "data": {
      "text/plain": "{'': 3227,\n 'black fruit': 111,\n 'fruit': 1186,\n 'rose': 213,\n 's': 3227,\n 'y': 3220,\n 'rosemary': 27,\n 'c': 3227,\n 'basil': 11,\n 'm': 3213,\n 'black fruits': 96,\n 'er': 3185,\n 'herb': 291,\n 'graphite': 174,\n 'herbs': 26,\n 'cherry': 330,\n 'flower': 470,\n 'flowers': 287,\n 'stone': 544,\n 'lime': 306,\n 'cherr': 455,\n 'acidity': 748,\n 'clay': 268,\n 'peony': 34,\n 'soil': 292,\n 'red fruit': 57,\n 'ink': 342,\n 'red fruits': 43,\n 'fruity': 184,\n 'petal': 56,\n 'eucalyptus': 54,\n 'truffle': 97,\n 'olive': 40,\n 'oak': 440,\n 'jujube': 63,\n 'wood': 102,\n 'hawthorn': 88,\n 'alwood': 46,\n 'date': 85,\n 'red date': 22,\n 'sea': 155,\n 'salt': 228,\n 'herbal': 112,\n 'blackberry': 279,\n 'berry': 858,\n 'plum': 491,\n 'mineral': 716,\n 'minerality': 211,\n 'plu': 537,\n 'sour plum': 56,\n 'orange': 140,\n 'lemon': 72,\n 'chalk': 105,\n 'black tea': 62,\n 'chalky': 82,\n 'spice': 597,\n 'floral': 256,\n 'spices': 550,\n 'clove': 145,\n 'cream': 393,\n 'almond': 96,\n 'tar': 362,\n 'amomum': 13,\n 'iris': 26,\n 'violet': 375,\n 'plums': 107,\n 'milk': 84,\n 'licorice': 152,\n 'prune': 84,\n 'licorice c': 9,\n 'cori': 153,\n 'star anise': 63,\n 'anise': 111,\n 'black plum': 94,\n 'wool': 1,\n 'hawthorn c': 17,\n 'currant': 143,\n 'blackcurrant': 29,\n 'nougat': 36,\n 'nut': 283,\n 'blueberry': 174,\n 'black current': 2,\n 'raspberry': 195,\n 'cranberry': 68,\n 'juice': 72,\n 'black currant': 62,\n 'pine': 182,\n 'currants': 12,\n 'creamy': 201,\n 'resin': 70,\n 'cigar': 87,\n 'cypress': 13,\n 'black currants': 4,\n 'black cherry': 105,\n 'pepper': 230,\n 'vanilla': 238,\n 'orange zest': 4,\n 'strawberry': 119,\n 'strawberry juice': 12,\n 'leaf': 82,\n 'spicy': 185,\n 'rhubarb jam': 14,\n 'rhubarb': 19,\n 'jam': 101,\n 'fig': 125,\n 'cinnamon': 228,\n 'red plum': 60,\n 'sour jujube': 22,\n 'sage': 27,\n 'kumquat': 15,\n 'fennel': 46,\n 'apricot': 111,\n 'orange peel': 48,\n 'peel': 96,\n 'orange pee': 48,\n 'cocoa': 78,\n 'gravel soil': 28,\n 'coco': 106,\n 'gravel': 103,\n 'cocoa powder': 27,\n 'dark fruit': 40,\n 'beef jerky': 10,\n 'toasty': 53,\n 'pear': 162,\n 'sesame': 34,\n 'pencil shave': 15,\n 'sichuan pepper': 52,\n 'pencil': 64,\n 'tobacco': 96,\n 'chocolate': 359,\n 'mulberry': 95,\n 'chinese brick tea': 1,\n 'cedar': 127,\n 'waxberry': 41,\n 'thyme': 7,\n 'cigar box': 59,\n 'liquorice': 190,\n 'leather': 187,\n 'jujube c': 9,\n 'arin': 98,\n 'black forest cake': 7,\n 'kirsch': 21,\n 'chinese salty prune': 3,\n 'honey': 134,\n 'peach': 81,\n 'dried apricot': 24,\n 'yellow peach': 30,\n 'caramel': 140,\n 'pineapple': 54,\n 'apple': 125,\n 'citrus': 100,\n 'earth': 374,\n 'red cherry': 21,\n 'lavender': 41,\n 'metallic': 17,\n 'grapefruit': 29,\n 'yellow fruit': 7,\n 'grapefruit peel': 4,\n 'red currant': 51,\n 'red currants': 1,\n 'cherry jam': 10,\n 'herbal spice': 6,\n 'peanut': 8,\n 'meat': 38,\n 'tea stalk': 5,\n 'pomegranate': 30,\n 'hazelnut': 83,\n 'ginger': 116,\n 'toffee': 47,\n 'earthy': 28,\n 'mushroom': 87,\n 'mocha': 49,\n 'dark chocolate': 63,\n 'date cake': 3,\n 'cumin': 22,\n 'mocha powder': 7,\n 'brambleberry': 10,\n 'earthy note': 1,\n 'curry': 16,\n 'forest floor': 47,\n 'tangerine': 7,\n 'cinnamon spice': 6,\n 'chamomile': 2,\n 'saffron': 17,\n 'plum jam': 5,\n 'melon': 22,\n 'mint': 129,\n 'minty chocolate': 3,\n 'coffee': 166,\n 'coffe': 166,\n 'black berry': 1,\n 'rosin': 4,\n 'orange flower': 3,\n 'bergamot': 10,\n 'flower cake': 6,\n 'hyacinth': 5,\n 'tamarind pulp': 5,\n 'peppercorn': 9,\n 'flint': 24,\n 'volatile': 9,\n 'mango': 27,\n 'green m': 1,\n 'cassis': 64,\n 'black goji': 14,\n 'pu-erh tea': 10,\n 'xiao qinggan': 1,\n 'peppery': 12,\n 'bayberry': 16,\n 'fruit tea': 4,\n 'southern china ginger': 2,\n 'green tea': 8,\n 'matsutake': 1,\n 'bay leaf': 6,\n 'humidor': 1,\n 'sea buckthorn': 4,\n 'black coffee': 35,\n 'wisteria blossom': 1,\n 'red berry': 24,\n 'puer tea': 1,\n 'juniper': 3,\n 'asparagus': 9,\n 'smoke': 82,\n 'black sesame soup': 1,\n 'kale borecole': 3,\n 'mild thyme': 1,\n 'ice-skin mooncake': 1,\n 'dried prunes': 2,\n 'ginseng': 12,\n 'jackfruit': 10,\n 'green pomelo': 2,\n 'lavish spiciness': 1,\n 'vanilla milk coffee': 1,\n 'spearmint': 1,\n 'bay leaves': 2,\n 'zesty': 14,\n 'with flower': 4,\n 'redcurrant': 1,\n 'sesame oil': 2,\n 'bought': 5,\n 'coffee bean': 19,\n 'pure lemongrass': 1,\n 'chinese pu-erh tea': 1,\n 'tangerine zest': 1,\n 'cigars': 1,\n 'myrtle': 1,\n 'marzipan': 2,\n 'fudge': 1,\n 'undergrowth': 35,\n 'underbrush': 26,\n 'butterscotch': 30,\n 'gooseberry': 5,\n 'gardenia': 6,\n 'espresso': 8,\n 'tobacco leaf': 26,\n 'meaty': 5,\n 'barnyard': 15,\n 'leafy': 3,\n 'creme': 3,\n 'wet earth': 4,\n 'green fruit': 6,\n 'floral nuance': 1,\n 'spice box': 2,\n 'espresso bean': 1,\n 'lemon peel': 3,\n 'incense': 1}"
     },
     "execution_count": 42,
     "metadata": {},
     "output_type": "execute_result"
    }
   ],
   "source": [
    "cn_reviews_count"
   ],
   "metadata": {
    "collapsed": false,
    "ExecuteTime": {
     "end_time": "2025-05-17T10:32:10.602621Z",
     "start_time": "2025-05-17T10:32:10.593882Z"
    }
   },
   "id": "3395e7cc5db8dddd"
  },
  {
   "cell_type": "code",
   "execution_count": 46,
   "outputs": [
    {
     "data": {
      "text/plain": "{'cherry': 2661,\n '': 16746,\n 'chocolate': 2339,\n 's': 16746,\n 'y': 16588,\n 'ink': 5253,\n 'c': 16724,\n 'm': 16571,\n 'cherr': 4393,\n 'er': 16160,\n 'oak': 3376,\n 'berry': 4268,\n 'spice': 3145,\n 'flower': 1230,\n 'licorice': 1547,\n 'espresso': 796,\n 'clove': 308,\n 'cranberry': 142,\n 'coffee': 930,\n 'tar': 1419,\n 'acidity': 3400,\n 'red cherry': 163,\n 'coffe': 930,\n 'cori': 1581,\n 'soil': 177,\n 'red fruit': 1391,\n 'fruit': 11336,\n 'flowers': 1143,\n 'plu': 4011,\n 'plum': 3617,\n 'blackberry': 1660,\n 'fruity': 621,\n 'blueberry': 498,\n 'mineral': 1764,\n 'leather': 531,\n 'stone': 462,\n 'cigar': 551,\n 'creme': 87,\n 'earth': 1833,\n 'strawberry': 168,\n 'cocoa': 798,\n 'coco': 919,\n 'flint': 34,\n 'meat': 808,\n 'leaf': 1208,\n 'raspberry': 646,\n 'jam': 506,\n 'black cherry': 796,\n 'cinnamon': 244,\n 'pepper': 962,\n 'spices': 917,\n 'black raspberry': 139,\n 'cassis': 2440,\n 'cigar box': 311,\n 'black tea': 107,\n 'currant': 2544,\n 'cream': 857,\n 'currants': 922,\n 'creamy': 715,\n 'pencil': 408,\n 'caramel': 188,\n 'honey': 455,\n 'almond': 101,\n 'lime': 322,\n 'apple': 416,\n 'citrus': 335,\n 'orange zest': 511,\n 'orange': 953,\n 'ginger': 76,\n 'green tea': 14,\n 'date': 81,\n 'fig': 330,\n 'black currant': 551,\n 'spice box': 54,\n 'sea': 542,\n 'black currants': 229,\n 'cigar wrapper': 97,\n 'tobacco': 2381,\n 'cedar': 2004,\n 'wet earth': 241,\n 'smoke': 959,\n 'barbecue': 43,\n 'wood': 1432,\n 'yellow fruit': 54,\n 'vanilla': 1203,\n 'toasty': 479,\n 'graphite': 683,\n 'kirsch': 200,\n 'black berry': 189,\n 'truffle': 427,\n 'violet': 939,\n 'alwood': 164,\n 'nut': 557,\n 'floral': 1313,\n 'black fruit': 1639,\n 'anise': 201,\n 'plums': 1271,\n 'bay leaves': 15,\n 'forest floor': 178,\n 'spicy': 1149,\n 'black fruits': 993,\n 'red currant': 175,\n 'milk': 117,\n 'tobacco leaf': 424,\n 'mocha': 422,\n 'incense': 166,\n 'blackcurrant': 829,\n 'pear': 341,\n 'rose': 376,\n 'black plum': 367,\n 'mulberry': 124,\n 'boysenberry': 127,\n 'arin': 397,\n 'orange rind': 103,\n 'tangerine': 120,\n 'camphor': 76,\n 'star anise': 40,\n 'cigars': 46,\n 'lavender': 120,\n 'herb': 1652,\n 'herbs': 717,\n 'mint': 889,\n 'sage': 172,\n 'red fruits': 861,\n 'leafy': 516,\n 'pine': 350,\n 'pineapple': 237,\n 'meaty': 492,\n 'cocoa powder': 69,\n 'earthy': 893,\n 'prune': 212,\n 'mushroom': 108,\n 'juice': 83,\n 'eucalyptus': 111,\n 'hazelnut': 44,\n 'chalk': 440,\n 'bay leaf': 83,\n 'underbrush': 53,\n 'peach': 210,\n 'lemon': 317,\n 'apricot': 244,\n 'grapefruit': 122,\n 'licorice c': 29,\n 'melon': 46,\n 'bergamot': 30,\n 'minerality': 429,\n 'liquorice': 664,\n 'dark chocolate': 426,\n 'dark fruit': 940,\n 'chalky': 352,\n 'red berry': 324,\n 'coffee bean': 94,\n 'red plum': 203,\n 'olive': 528,\n 'peppery': 441,\n 'rosemary': 48,\n 'peel': 138,\n 'white almonds': 6,\n 'lemon peel': 14,\n 'juniper': 59,\n 'zesty': 35,\n 'salt': 487,\n 'peppercorn': 39,\n 'fennel': 38,\n 'gravel': 152,\n 'orange peel': 74,\n 'orange pee': 74,\n 'jammy fruits': 19,\n 'chocolate mint': 21,\n 'dark cocoa': 59,\n 'redcurrant': 207,\n 'plum jam': 9,\n 'clay': 99,\n 'petal': 98,\n 'black forest cake': 38,\n 'peony': 11,\n 'herbal': 716,\n 'grapefruit peel': 2,\n 'lemon juice': 5,\n 'resin': 130,\n 'fudge': 12,\n 'cumin': 26,\n 'with flower': 34,\n 'cherry jam': 50,\n 'mango': 72,\n 'bought': 12,\n 'earthy note': 99,\n 'green fruit': 9,\n 'toffee': 16,\n 'dried apricot': 24,\n 'lemon curd': 16,\n 'nougat': 568,\n 'saffron': 38,\n 'green m': 6,\n 'marzipan': 56,\n 'butterscotch': 124,\n 'floral nuance': 58,\n 'barnyard': 106,\n 'cinnamon spice': 30,\n 'pomegranate': 20,\n 'thyme': 91,\n 'wet clay': 3,\n 'rhubarb': 14,\n 'espresso bean': 70,\n 'chocolate fudge': 6,\n 'some herbal': 42,\n 'dark red fruits': 155,\n 'wet forest': 33,\n 'metallic': 8,\n 'spearmint': 75,\n 'volatile': 36,\n 'undergrowth': 46,\n 'red currants': 85,\n 'forest leaf': 47,\n 'black current': 9,\n 'sweet plums': 26,\n 'cuban cigar': 21,\n 'herbal spice': 24,\n 'basil': 15,\n 'sichuan pepper': 8,\n 'tangerine zest': 65,\n 'iris': 33,\n 'curry': 15,\n 'burnt rubber': 2,\n 'waxberry': 2,\n 'linden': 15,\n 'arin rind': 5,\n 'red prune': 16,\n 'magnolias': 8,\n 'gardenias': 9,\n 'gardenia': 15,\n 'magnolia': 15,\n 'marjoram': 4,\n 'gravel soil': 3,\n 'hibiscus': 41,\n 'juniper leaf': 1,\n 'humidor': 9,\n 'peppery nuances': 3,\n 'darjeeling tea': 1,\n 'hawthorn': 15,\n 'geranium': 17,\n 'hyacinth': 22,\n 'wisteria blossom': 1,\n 'myrtle': 3,\n 'chewy red fruits': 8,\n 'yellow tropical fruits': 8,\n 'sea buckthorn': 6,\n 'cut cedar': 6,\n 'guaranà': 18,\n 'yellow peach': 9,\n 'citron': 9,\n 'chamomile': 15,\n 'black coffee': 10,\n 'gooseberry': 11,\n 'elderflower': 13,\n 'elderflowers': 4,\n 'cedaroak': 4,\n 'vetiver': 5,\n 'wool': 5,\n 'truffle flower': 2,\n 'hibiscus flower': 2,\n 'ginseng': 3,\n 'dried prunes': 3,\n 'roasted plums': 9,\n 'asparagus': 4,\n 'pea-pod': 2,\n 'orange flower': 1,\n 'mediterranean brush': 2,\n 'gentian roots': 2,\n 'cats-pee': 1,\n 'brambleberry': 3,\n 'hawthorn c': 1,\n 'beef jerky': 1,\n 'fruit tea': 1,\n 'kumquat': 4}"
     },
     "execution_count": 46,
     "metadata": {},
     "output_type": "execute_result"
    }
   ],
   "source": [
    "for review in en_reviews:\n",
    "    review = review.lower()\n",
    "    for word in categories_res.keys():\n",
    "        if word in review:\n",
    "            if word not in en_reviews_count:\n",
    "                en_reviews_count[word] = 1\n",
    "            else:\n",
    "                en_reviews_count[word] += 1\n",
    "en_reviews_count"
   ],
   "metadata": {
    "collapsed": false,
    "ExecuteTime": {
     "end_time": "2025-05-17T10:41:10.064942Z",
     "start_time": "2025-05-17T10:41:08.919196Z"
    }
   },
   "id": "278ccbb93b1ca678"
  },
  {
   "cell_type": "code",
   "execution_count": 94,
   "outputs": [],
   "source": [
    "cn_reviews_count_5 = {key: value for key, value in cn_reviews_count.items() if value > 50}\n",
    "en_reviews_count_5 = {key: value for key, value in en_reviews_count.items() if value > 50}"
   ],
   "metadata": {
    "collapsed": false,
    "ExecuteTime": {
     "end_time": "2025-05-17T13:46:00.819206Z",
     "start_time": "2025-05-17T13:46:00.803467Z"
    }
   },
   "id": "d45f96bfd680e88b"
  },
  {
   "cell_type": "code",
   "execution_count": 95,
   "outputs": [
    {
     "data": {
      "text/plain": "({'': 3227,\n  'black fruit': 111,\n  'fruit': 1186,\n  'rose': 213,\n  's': 3227,\n  'y': 3220,\n  'c': 3227,\n  'm': 3213,\n  'black fruits': 96,\n  'er': 3185,\n  'herb': 291,\n  'graphite': 174,\n  'cherry': 330,\n  'flower': 470,\n  'flowers': 287,\n  'stone': 544,\n  'lime': 306,\n  'cherr': 455,\n  'acidity': 748,\n  'clay': 268,\n  'soil': 292,\n  'red fruit': 57,\n  'ink': 342,\n  'fruity': 184,\n  'petal': 56,\n  'eucalyptus': 54,\n  'truffle': 97,\n  'oak': 440,\n  'jujube': 63,\n  'wood': 102,\n  'hawthorn': 88,\n  'date': 85,\n  'sea': 155,\n  'salt': 228,\n  'herbal': 112,\n  'blackberry': 279,\n  'berry': 858,\n  'plum': 491,\n  'mineral': 716,\n  'minerality': 211,\n  'plu': 537,\n  'sour plum': 56,\n  'orange': 140,\n  'lemon': 72,\n  'chalk': 105,\n  'black tea': 62,\n  'chalky': 82,\n  'spice': 597,\n  'floral': 256,\n  'spices': 550,\n  'clove': 145,\n  'cream': 393,\n  'almond': 96,\n  'tar': 362,\n  'violet': 375,\n  'plums': 107,\n  'milk': 84,\n  'licorice': 152,\n  'prune': 84,\n  'cori': 153,\n  'star anise': 63,\n  'anise': 111,\n  'black plum': 94,\n  'currant': 143,\n  'nut': 283,\n  'blueberry': 174,\n  'raspberry': 195,\n  'cranberry': 68,\n  'juice': 72,\n  'black currant': 62,\n  'pine': 182,\n  'creamy': 201,\n  'resin': 70,\n  'cigar': 87,\n  'black cherry': 105,\n  'pepper': 230,\n  'vanilla': 238,\n  'strawberry': 119,\n  'leaf': 82,\n  'spicy': 185,\n  'jam': 101,\n  'fig': 125,\n  'cinnamon': 228,\n  'red plum': 60,\n  'apricot': 111,\n  'peel': 96,\n  'cocoa': 78,\n  'coco': 106,\n  'gravel': 103,\n  'toasty': 53,\n  'pear': 162,\n  'sichuan pepper': 52,\n  'pencil': 64,\n  'tobacco': 96,\n  'chocolate': 359,\n  'mulberry': 95,\n  'cedar': 127,\n  'cigar box': 59,\n  'liquorice': 190,\n  'leather': 187,\n  'arin': 98,\n  'honey': 134,\n  'peach': 81,\n  'caramel': 140,\n  'pineapple': 54,\n  'apple': 125,\n  'citrus': 100,\n  'earth': 374,\n  'red currant': 51,\n  'hazelnut': 83,\n  'ginger': 116,\n  'mushroom': 87,\n  'dark chocolate': 63,\n  'mint': 129,\n  'coffee': 166,\n  'coffe': 166,\n  'cassis': 64,\n  'smoke': 82},\n 118)"
     },
     "execution_count": 95,
     "metadata": {},
     "output_type": "execute_result"
    }
   ],
   "source": [
    "cn_reviews_count_5, len(cn_reviews_count_5)"
   ],
   "metadata": {
    "collapsed": false,
    "ExecuteTime": {
     "end_time": "2025-05-17T13:46:01.283287Z",
     "start_time": "2025-05-17T13:46:01.276040Z"
    }
   },
   "id": "4a82c52109000db9"
  },
  {
   "cell_type": "code",
   "execution_count": 96,
   "outputs": [
    {
     "data": {
      "text/plain": "({'cherry': 2661,\n  '': 16746,\n  'chocolate': 2339,\n  's': 16746,\n  'y': 16588,\n  'ink': 5253,\n  'c': 16724,\n  'm': 16571,\n  'cherr': 4393,\n  'er': 16160,\n  'oak': 3376,\n  'berry': 4268,\n  'spice': 3145,\n  'flower': 1230,\n  'licorice': 1547,\n  'espresso': 796,\n  'clove': 308,\n  'cranberry': 142,\n  'coffee': 930,\n  'tar': 1419,\n  'acidity': 3400,\n  'red cherry': 163,\n  'coffe': 930,\n  'cori': 1581,\n  'soil': 177,\n  'red fruit': 1391,\n  'fruit': 11336,\n  'flowers': 1143,\n  'plu': 4011,\n  'plum': 3617,\n  'blackberry': 1660,\n  'fruity': 621,\n  'blueberry': 498,\n  'mineral': 1764,\n  'leather': 531,\n  'stone': 462,\n  'cigar': 551,\n  'creme': 87,\n  'earth': 1833,\n  'strawberry': 168,\n  'cocoa': 798,\n  'coco': 919,\n  'meat': 808,\n  'leaf': 1208,\n  'raspberry': 646,\n  'jam': 506,\n  'black cherry': 796,\n  'cinnamon': 244,\n  'pepper': 962,\n  'spices': 917,\n  'black raspberry': 139,\n  'cassis': 2440,\n  'cigar box': 311,\n  'black tea': 107,\n  'currant': 2544,\n  'cream': 857,\n  'currants': 922,\n  'creamy': 715,\n  'pencil': 408,\n  'caramel': 188,\n  'honey': 455,\n  'almond': 101,\n  'lime': 322,\n  'apple': 416,\n  'citrus': 335,\n  'orange zest': 511,\n  'orange': 953,\n  'ginger': 76,\n  'date': 81,\n  'fig': 330,\n  'black currant': 551,\n  'spice box': 54,\n  'sea': 542,\n  'black currants': 229,\n  'cigar wrapper': 97,\n  'tobacco': 2381,\n  'cedar': 2004,\n  'wet earth': 241,\n  'smoke': 959,\n  'wood': 1432,\n  'yellow fruit': 54,\n  'vanilla': 1203,\n  'toasty': 479,\n  'graphite': 683,\n  'kirsch': 200,\n  'black berry': 189,\n  'truffle': 427,\n  'violet': 939,\n  'alwood': 164,\n  'nut': 557,\n  'floral': 1313,\n  'black fruit': 1639,\n  'anise': 201,\n  'plums': 1271,\n  'forest floor': 178,\n  'spicy': 1149,\n  'black fruits': 993,\n  'red currant': 175,\n  'milk': 117,\n  'tobacco leaf': 424,\n  'mocha': 422,\n  'incense': 166,\n  'blackcurrant': 829,\n  'pear': 341,\n  'rose': 376,\n  'black plum': 367,\n  'mulberry': 124,\n  'boysenberry': 127,\n  'arin': 397,\n  'orange rind': 103,\n  'tangerine': 120,\n  'camphor': 76,\n  'lavender': 120,\n  'herb': 1652,\n  'herbs': 717,\n  'mint': 889,\n  'sage': 172,\n  'red fruits': 861,\n  'leafy': 516,\n  'pine': 350,\n  'pineapple': 237,\n  'meaty': 492,\n  'cocoa powder': 69,\n  'earthy': 893,\n  'prune': 212,\n  'mushroom': 108,\n  'juice': 83,\n  'eucalyptus': 111,\n  'chalk': 440,\n  'bay leaf': 83,\n  'underbrush': 53,\n  'peach': 210,\n  'lemon': 317,\n  'apricot': 244,\n  'grapefruit': 122,\n  'minerality': 429,\n  'liquorice': 664,\n  'dark chocolate': 426,\n  'dark fruit': 940,\n  'chalky': 352,\n  'red berry': 324,\n  'coffee bean': 94,\n  'red plum': 203,\n  'olive': 528,\n  'peppery': 441,\n  'peel': 138,\n  'juniper': 59,\n  'salt': 487,\n  'gravel': 152,\n  'orange peel': 74,\n  'orange pee': 74,\n  'dark cocoa': 59,\n  'redcurrant': 207,\n  'clay': 99,\n  'petal': 98,\n  'herbal': 716,\n  'resin': 130,\n  'mango': 72,\n  'earthy note': 99,\n  'nougat': 568,\n  'marzipan': 56,\n  'butterscotch': 124,\n  'floral nuance': 58,\n  'barnyard': 106,\n  'thyme': 91,\n  'espresso bean': 70,\n  'dark red fruits': 155,\n  'spearmint': 75,\n  'red currants': 85,\n  'tangerine zest': 65},\n 170)"
     },
     "execution_count": 96,
     "metadata": {},
     "output_type": "execute_result"
    }
   ],
   "source": [
    "en_reviews_count_5, len(en_reviews_count_5)"
   ],
   "metadata": {
    "collapsed": false,
    "ExecuteTime": {
     "end_time": "2025-05-17T13:46:01.688767Z",
     "start_time": "2025-05-17T13:46:01.681021Z"
    }
   },
   "id": "a4bb277d4486ddc4"
  },
  {
   "cell_type": "code",
   "execution_count": 97,
   "outputs": [
    {
     "data": {
      "text/plain": "{'': 16746,\n 's': 16746,\n 'c': 16724,\n 'y': 16588,\n 'm': 16571,\n 'er': 16160,\n 'fruit': 11336,\n 'ink': 5253,\n 'cherr': 4393,\n 'berry': 4268,\n 'plu': 4011,\n 'plum': 3617,\n 'acidity': 3400,\n 'oak': 3376,\n 'spice': 3145,\n 'cherry': 2661,\n 'currant': 2544,\n 'cassis': 2440,\n 'tobacco': 2381,\n 'chocolate': 2339,\n 'cedar': 2004,\n 'earth': 1833,\n 'mineral': 1764,\n 'blackberry': 1660,\n 'herb': 1652,\n 'black fruit': 1639,\n 'cori': 1581,\n 'licorice': 1547,\n 'wood': 1432,\n 'tar': 1419,\n 'red fruit': 1391,\n 'floral': 1313,\n 'plums': 1271,\n 'flower': 1230,\n 'leaf': 1208,\n 'vanilla': 1203,\n 'spicy': 1149,\n 'flowers': 1143,\n 'black fruits': 993,\n 'pepper': 962,\n 'smoke': 959,\n 'orange': 953,\n 'dark fruit': 940,\n 'violet': 939,\n 'coffee': 930,\n 'coffe': 930,\n 'currants': 922,\n 'coco': 919,\n 'spices': 917,\n 'earthy': 893,\n 'mint': 889,\n 'red fruits': 861,\n 'cream': 857,\n 'blackcurrant': 829,\n 'meat': 808,\n 'cocoa': 798,\n 'espresso': 796,\n 'black cherry': 796,\n 'herbs': 717,\n 'herbal': 716,\n 'creamy': 715,\n 'graphite': 683,\n 'liquorice': 664,\n 'raspberry': 646,\n 'fruity': 621,\n 'nougat': 568,\n 'nut': 557,\n 'cigar': 551,\n 'black currant': 551,\n 'sea': 542,\n 'leather': 531,\n 'olive': 528,\n 'leafy': 516,\n 'orange zest': 511,\n 'jam': 506,\n 'blueberry': 498,\n 'meaty': 492,\n 'salt': 487,\n 'toasty': 479,\n 'stone': 462,\n 'honey': 455,\n 'peppery': 441,\n 'chalk': 440,\n 'minerality': 429,\n 'truffle': 427,\n 'dark chocolate': 426,\n 'tobacco leaf': 424,\n 'mocha': 422,\n 'apple': 416,\n 'pencil': 408,\n 'arin': 397,\n 'rose': 376,\n 'black plum': 367,\n 'chalky': 352,\n 'pine': 350,\n 'pear': 341,\n 'citrus': 335,\n 'fig': 330,\n 'red berry': 324,\n 'lime': 322,\n 'lemon': 317,\n 'cigar box': 311,\n 'clove': 308,\n 'cinnamon': 244,\n 'apricot': 244,\n 'wet earth': 241,\n 'pineapple': 237,\n 'black currants': 229,\n 'prune': 212,\n 'peach': 210,\n 'redcurrant': 207,\n 'red plum': 203,\n 'anise': 201,\n 'kirsch': 200,\n 'black berry': 189,\n 'caramel': 188,\n 'forest floor': 178,\n 'soil': 177,\n 'red currant': 175,\n 'sage': 172,\n 'strawberry': 168,\n 'incense': 166,\n 'alwood': 164,\n 'red cherry': 163,\n 'dark red fruits': 155,\n 'gravel': 152,\n 'cranberry': 142,\n 'black raspberry': 139,\n 'peel': 138,\n 'resin': 130,\n 'boysenberry': 127,\n 'mulberry': 124,\n 'butterscotch': 124,\n 'grapefruit': 122,\n 'tangerine': 120,\n 'lavender': 120,\n 'milk': 117,\n 'eucalyptus': 111,\n 'mushroom': 108,\n 'black tea': 107,\n 'barnyard': 106,\n 'orange rind': 103,\n 'almond': 101,\n 'clay': 99,\n 'earthy note': 99,\n 'petal': 98,\n 'cigar wrapper': 97,\n 'coffee bean': 94,\n 'thyme': 91,\n 'creme': 87,\n 'red currants': 85,\n 'juice': 83,\n 'bay leaf': 83,\n 'date': 81,\n 'ginger': 76,\n 'camphor': 76,\n 'spearmint': 75,\n 'orange peel': 74,\n 'orange pee': 74,\n 'mango': 72,\n 'espresso bean': 70,\n 'cocoa powder': 69,\n 'tangerine zest': 65,\n 'juniper': 59,\n 'dark cocoa': 59,\n 'floral nuance': 58,\n 'marzipan': 56,\n 'spice box': 54,\n 'yellow fruit': 54,\n 'underbrush': 53}"
     },
     "execution_count": 97,
     "metadata": {},
     "output_type": "execute_result"
    }
   ],
   "source": [
    "sort_en = dict(sorted(en_reviews_count_5.items(), key=lambda item: item[1], reverse=True))\n",
    "sort_cn = dict(sorted(cn_reviews_count_5.items(), key=lambda item: item[1], reverse=True))\n",
    "\n",
    "sort_en"
   ],
   "metadata": {
    "collapsed": false,
    "ExecuteTime": {
     "end_time": "2025-05-17T13:46:02.453907Z",
     "start_time": "2025-05-17T13:46:02.442864Z"
    }
   },
   "id": "49959fb27f678790"
  },
  {
   "cell_type": "code",
   "execution_count": 103,
   "outputs": [
    {
     "data": {
      "text/plain": "92"
     },
     "execution_count": 103,
     "metadata": {},
     "output_type": "execute_result"
    }
   ],
   "source": [
    "# first category\n",
    "labels = ['smoke', 'pine', 'cedar', 'oak', 'plum', 'cherry', 'blackberry', 'black currant', 'raspberry', 'strawberry', 'black current', 'currant', 'blackcurrant', 'blueberry', 'berry', 'cassis', 'rose', 'violet', 'flower', 'leather', 'gravy', 'clove', 'cinnamon', 'vanilla', 'nutmeg', 'pepper', 'liquorice', 'licorice', 'tar', 'smoke', 'coffee', 'espresso', 'cocoa', 'chocolate', 'cigar', 'coco', 'mocha', 'lemon', 'lime', 'grapefruit', 'orange zest', 'apricot', 'tangerine zest', 'pear', 'apple', 'peach', 'date', 'jujube', 'truffle', 'mushroom', 'earth', 'soil', 'gravel', 'forest floor', 'underbrush', 'tobacco', 'hay', 'mint', 'fern', 'dill', 'grass', 'thyme', 'herb', 'red fruit', 'black fruit', 'fruit', 'wood', 'spice', 'spicy', 'mineral', 'stone', 'orange', 'citrus', 'floral', 'petal', 'meat', 'leather', 'grave', 'leaf', 'cream', 'creme', 'graphite','ink', 'honeysuckle', 'hawthorn', 'linden', 'jasmine', 'acacia', 'almond', 'coconut', 'hazelnut', 'nut']\n",
    "def convert_to_category(string):\n",
    "    if 'smoke' in string:\n",
    "        return 'toasted', 'maturation in oak barrel'\n",
    "    if 'pine' in string or  'cedar' in string or 'oak' in string:\n",
    "        return 'woods', 'maturation in oak barrel'\n",
    "\n",
    "    if 'plum' in string or 'cherry' in string:\n",
    "        return 'stone fruit', 'fruit'\n",
    "    \n",
    "    if 'blackberry' in string or 'black currant' in string or 'raspberry' in string or 'strawberry' in string or 'black current' in string or 'currant' in string or 'blackcurrant' in string or 'blueberry' in string or 'berry' in string or 'cassis' in string:\n",
    "        return 'red berries', 'fruit'\n",
    "    \n",
    "    if 'rose' in string or 'violet' in string:\n",
    "        return 'colored flowers', 'floral'\n",
    "    \n",
    "    if 'flower' in string:\n",
    "        return 'flowers', 'floral'\n",
    "    \n",
    "    if 'leather' in string or 'gravy' in string:\n",
    "        return 'animal', 'aged red wine'\n",
    "    \n",
    "    if 'clove' in string or 'cinnamon' in string or 'vanilla' in string or 'nutmeg' in string or 'pepper' in string or 'liquorice' in string or 'licorice' in string:\n",
    "        return 'spices', 'maturation in oak barrel'\n",
    "    \n",
    "    if 'tar' in string or 'smoke' in string or 'coffee' in string or 'espresso' in string or 'cocoa' in string or 'chocolate' in string or 'cigar' in string or 'coco' in string or 'mocha' in string:\n",
    "        return 'toasted', 'maturation in oak barrel'\n",
    "    \n",
    "    if 'lemon' in string or 'lime' in string or 'grapefruit' in string:\n",
    "        return 'citrus', 'fruit'\n",
    "    \n",
    "    if 'orange zest' in string or 'apricot' in string or 'tangerine zest' in string:\n",
    "        return 'botrytis', 'fruit'\n",
    "    \n",
    "    if 'pear' in string or 'apple' in string:\n",
    "        return 'pome fruit', 'fruit'\n",
    "    \n",
    "    if 'peach' in string or 'date' in string or 'jujube' in string:\n",
    "        return 'stone fruit', 'fruit'\n",
    "    \n",
    "    if 'truffle' in string or 'mushroom' in string or 'earth' in string or 'soil' in string or 'gravel' in string or 'forest floor' in string or 'underbrush' in string:\n",
    "        return 'undergrowth', 'aged red wine'\n",
    "    \n",
    "    if 'tobacco' in string or 'hay' in string:\n",
    "        return 'herbs', 'vegetal'\n",
    "    \n",
    "    if 'mint' in string or 'fern' in string or 'dill' in string or 'grass' in string or 'thyme' in string:\n",
    "        return 'herbs', 'vegetal'\n",
    "    \n",
    "    if 'herb' in string:\n",
    "        return 'herbs', 'vegetal'\n",
    "        \n",
    "    \n",
    "    if 'red fruit' in string:\n",
    "        return 'red fruit', 'fruit'\n",
    "    \n",
    "    if 'black fruit' in string:\n",
    "        return 'black fruit', 'fruit'\n",
    "    \n",
    "    if 'fruit' in string:\n",
    "        return 'fruit', 'fruit'\n",
    "    \n",
    "    if 'wood' in string:\n",
    "        return 'woods', 'maturation in oak barrel'\n",
    "    \n",
    "    if 'spice' in string or 'spicy' in string:\n",
    "        return 'spices', 'maturation in oak barrel'\n",
    "    \n",
    "    if 'mineral' in string or 'stone' in string:\n",
    "        return 'mineral', 'mineral'\n",
    "    \n",
    "    if 'orange' in string or 'citrus' in string:\n",
    "        return 'botrytized', 'fruit'\n",
    "    \n",
    "    if 'floral' in string or 'petal' in string:\n",
    "        return 'floral', 'floral'\n",
    "    \n",
    "    if 'meat' in string or 'leather' in string or 'grave' in string:\n",
    "        return 'animal', 'aged red wine'\n",
    "    \n",
    "    if 'leaf' in string:\n",
    "        return 'leaves', 'vegetal'\n",
    "    \n",
    "    if 'cream' in string or 'creme' in string:\n",
    "        return 'yeast', 'yeast'\n",
    "    \n",
    "    if 'graphite' in string or 'ink' in string:\n",
    "        return 'mineral', 'mineral'\n",
    "    \n",
    "    if 'honeysuckle' in string or 'hawthorn' in string or 'linden' in string or 'jasmine' in string or 'acacia' in string:\n",
    "        return 'white flowers', 'floral'\n",
    "    \n",
    "    if 'almond' in string or 'coconut' or 'hazelnut' in string or 'nut' in string:\n",
    "        return 'nuts', 'maturation in oak barrel'\n",
    "    \n",
    "    return None, None\n",
    "\n",
    "len(labels)"
   ],
   "metadata": {
    "collapsed": false,
    "ExecuteTime": {
     "end_time": "2025-05-17T13:52:10.888484Z",
     "start_time": "2025-05-17T13:52:10.881573Z"
    }
   },
   "id": "c87adf84eb608403"
  },
  {
   "cell_type": "code",
   "execution_count": 170,
   "outputs": [],
   "source": [
    "count_reviews = {}\n",
    "reviews = []\n",
    "levels_1, levels_2, levels_3 = [], [], []\n",
    "en_data = read_json('../data/merge_data_language_en.json')\n",
    "for key, value in en_data.items():\n",
    "    Western_reviews = value['Western_reviews']\n",
    "    Chinese_reviews = value['Chinese reviews']\n",
    "    if Chinese_reviews[0]['English review'] is None or len(Western_reviews) == 0:\n",
    "        continue\n",
    "    else:\n",
    "        level1_cn, level2_cn, level3_cn = [], [], []\n",
    "        levels1_en, levels2_en, levels3_en = [], [], []\n",
    "        reviews_cn, reviews_en = [], []\n",
    "        for r in Chinese_reviews:\n",
    "            review = r['English review'].lower()\n",
    "            reviews_cn.append(review)\n",
    "            for word in labels:\n",
    "                if word in review:\n",
    "                    level1_cn.append(word)\n",
    "                    level2_cn.append(convert_to_category(word)[0])\n",
    "                    level3_cn.append(convert_to_category(word)[1])\n",
    "            \n",
    "        for r in Western_reviews:\n",
    "            level1_en, level2_en, level3_en = [], [], []\n",
    "            language = r['language']\n",
    "            if language != 'en':\n",
    "                continue\n",
    "            review = r['review'].lower()\n",
    "            if review in reviews_en:\n",
    "                continue\n",
    "            reviews_en.append(review)\n",
    "            for word in labels:\n",
    "                if word in review:\n",
    "                    level1_en.append(word)\n",
    "                    level2_en.append(convert_to_category(word)[0])\n",
    "                    level3_en.append(convert_to_category(word)[1])\n",
    "            levels1_en.append(level1_en)\n",
    "            levels2_en.append(level2_en)\n",
    "            levels3_en.append(level3_en)\n",
    "        levels_1.append([level1_cn, levels1_en])\n",
    "        levels_2.append([level2_cn, levels2_en])\n",
    "        levels_3.append([level3_cn, levels3_en])\n",
    "        reviews.append([reviews_cn, reviews_en])\n",
    "                    \n",
    "        \n",
    "    \n",
    "            \n",
    "            \n",
    "    "
   ],
   "metadata": {
    "collapsed": false,
    "ExecuteTime": {
     "end_time": "2025-05-17T15:24:16.273669Z",
     "start_time": "2025-05-17T15:24:15.466167Z"
    }
   },
   "id": "d577db2ce477b2b4"
  },
  {
   "cell_type": "code",
   "execution_count": 171,
   "outputs": [],
   "source": [
    "# calculate Jaccard similarity\n",
    "def jaccard_similarity(list1, list2):\n",
    "    set1 = set(list1)\n",
    "    set2 = set(list2)\n",
    "    if not set1 and not set2:\n",
    "        return 0\n",
    "    return len(set1 & set2) / len(set1 | set2)"
   ],
   "metadata": {
    "collapsed": false,
    "ExecuteTime": {
     "end_time": "2025-05-17T15:24:16.876915Z",
     "start_time": "2025-05-17T15:24:16.861357Z"
    }
   },
   "id": "49d79b16c9d6f338"
  },
  {
   "cell_type": "code",
   "execution_count": 188,
   "outputs": [
    {
     "data": {
      "text/plain": "(0.08469831683840416, 0.1895679588790109, 0.4033237767837787)"
     },
     "execution_count": 188,
     "metadata": {},
     "output_type": "execute_result"
    }
   ],
   "source": [
    "# levels_1\n",
    "level1_Jaccard, level2_Jaccard, level3_Jaccard = [], [], []\n",
    "level1_mean, level2_mean, level3_mean = [], [], []\n",
    "for i in range(len(levels_1)):\n",
    "    cn = levels_1[i][0]\n",
    "    ens = levels_1[i][1]\n",
    "    jaccard = []\n",
    "    if len(ens) == 0:\n",
    "        continue\n",
    "    for en in ens:\n",
    "        level1_Jaccard.append(jaccard_similarity(cn, en))\n",
    "        jaccard.append(jaccard_similarity(cn, en))\n",
    "    level1_mean.append(np.array(jaccard).mean())\n",
    "\n",
    "for i in range(len(levels_2)):\n",
    "    cn = levels_2[i][0]\n",
    "    ens = levels_2[i][1]\n",
    "    jaccard = []\n",
    "    if len(ens) == 0:\n",
    "        continue\n",
    "    for en in ens:\n",
    "        level2_Jaccard.append(jaccard_similarity(cn, en))\n",
    "        jaccard.append(jaccard_similarity(cn, en))\n",
    "    level2_mean.append(np.array(jaccard).mean())\n",
    "\n",
    "for i in range(len(levels_3)):\n",
    "    cn = levels_3[i][0]\n",
    "    ens = levels_3[i][1]\n",
    "    jaccard = []\n",
    "    if len(ens) == 0:\n",
    "        continue\n",
    "    for en in ens:\n",
    "        level3_Jaccard.append(jaccard_similarity(cn, en))\n",
    "        jaccard.append(jaccard_similarity(cn, en))\n",
    "    level3_mean.append(np.array(jaccard).mean())\n",
    "    # for en in ens:\n",
    "    #     jaccard.append(jaccard_similarity(cn, en))\n",
    "    \n",
    "# average\n",
    "import numpy as np\n",
    "np.array(level1_Jaccard).mean(), np.array(level2_Jaccard).mean(), np.array(level3_Jaccard).mean()\n"
   ],
   "metadata": {
    "collapsed": false,
    "ExecuteTime": {
     "end_time": "2025-05-19T15:13:36.275119Z",
     "start_time": "2025-05-19T15:13:36.260033Z"
    }
   },
   "id": "86e6b7f53790f11f"
  },
  {
   "cell_type": "code",
   "execution_count": 189,
   "outputs": [
    {
     "data": {
      "text/plain": "(0.13444497720968374, 0.24878796312091825, 0.4760114657669225)"
     },
     "execution_count": 189,
     "metadata": {},
     "output_type": "execute_result"
    }
   ],
   "source": [
    "import itertools\n",
    "tmp = []\n",
    "level1_Jaccard_inner, level2_Jaccard_inner, level3_Jaccard_inner = [], [], []\n",
    "level1_inner_mean, level2_inner_mean, level3_inner_mean = [], [], []\n",
    "for i in range(len(levels_1)):\n",
    "    ens = levels_1[i][1]\n",
    "    if len(ens) < 2:\n",
    "        continue\n",
    "    tmp.append(ens)\n",
    "    jaccard = []\n",
    "    for pair in itertools.combinations(ens, 2):\n",
    "        level1_Jaccard_inner.append(jaccard_similarity(pair[0], pair[1]))\n",
    "        jaccard.append(jaccard_similarity(pair[0], pair[1]))\n",
    "    level1_inner_mean.append(np.array(jaccard).mean())\n",
    "\n",
    "for i in range(len(levels_2)):\n",
    "    ens = levels_2[i][1]\n",
    "    if len(ens) < 2:\n",
    "        continue\n",
    "    jaccard = []\n",
    "    for pair in itertools.combinations(ens, 2):\n",
    "        level2_Jaccard_inner.append(jaccard_similarity(pair[0], pair[1]))\n",
    "        jaccard.append(jaccard_similarity(pair[0], pair[1]))\n",
    "    level2_inner_mean.append(np.array(jaccard).mean())\n",
    "\n",
    "for i in range(len(levels_3)):\n",
    "    ens = levels_3[i][1]\n",
    "    if len(ens) < 2:\n",
    "        continue\n",
    "    jaccard = []\n",
    "    for pair in itertools.combinations(ens, 2):\n",
    "        level3_Jaccard_inner.append(jaccard_similarity(pair[0], pair[1]))\n",
    "        jaccard.append(jaccard_similarity(pair[0], pair[1]))\n",
    "    level3_inner_mean.append(np.array(jaccard).mean())\n",
    "        \n",
    "# average\n",
    "np.array(level1_Jaccard_inner).mean(), np.array(level2_Jaccard_inner).mean(), np.array(level3_Jaccard_inner).mean()"
   ],
   "metadata": {
    "collapsed": false,
    "ExecuteTime": {
     "end_time": "2025-05-19T15:14:28.394899Z",
     "start_time": "2025-05-19T15:14:28.313708Z"
    }
   },
   "id": "c5304660d09a09b0"
  },
  {
   "cell_type": "code",
   "execution_count": 169,
   "outputs": [
    {
     "data": {
      "text/plain": "[['cherry',\n  'cassis',\n  'vanilla',\n  'mocha',\n  'orange zest',\n  'date',\n  'fruit',\n  'wood',\n  'mineral',\n  'orange',\n  'cherry',\n  'fruit',\n  'ink'],\n ['cherry',\n  'cassis',\n  'vanilla',\n  'mocha',\n  'orange zest',\n  'date',\n  'fruit',\n  'wood',\n  'mineral',\n  'orange',\n  'cherry',\n  'fruit',\n  'ink']]"
     },
     "execution_count": 169,
     "metadata": {},
     "output_type": "execute_result"
    }
   ],
   "source": [
    "tmp[1]"
   ],
   "metadata": {
    "collapsed": false,
    "ExecuteTime": {
     "end_time": "2025-05-17T14:56:41.788967Z",
     "start_time": "2025-05-17T14:56:41.776531Z"
    }
   },
   "id": "101393977509dbe6"
  },
  {
   "cell_type": "code",
   "execution_count": 180,
   "outputs": [
    {
     "name": "stdout",
     "output_type": "stream",
     "text": [
      "[['woods', 'stone fruit', 'fruit', 'mineral'], [['herbs', 'fruit', 'spices', 'animal'], ['red berries', 'red berries', 'animal', 'toasted', 'fruit', 'animal'], ['stone fruit', 'stone fruit', 'red berries', 'herbs', 'herbs', 'herbs', 'fruit', 'spices', 'mineral']]]\n"
     ]
    }
   ],
   "source": [
    "for i in levels_2:\n",
    "    if len(i[1]) < 2:\n",
    "        continue\n",
    "    else:\n",
    "        print(i)\n",
    "        break"
   ],
   "metadata": {
    "collapsed": false,
    "ExecuteTime": {
     "end_time": "2025-05-19T14:58:17.523118Z",
     "start_time": "2025-05-19T14:58:17.516280Z"
    }
   },
   "id": "9b8913644584d375"
  },
  {
   "cell_type": "code",
   "execution_count": 194,
   "outputs": [
    {
     "name": "stdout",
     "output_type": "stream",
     "text": [
      "(0.07829520316893546, 0.08427849033374117, 0.08128328086083475)\n",
      "(0.17758163685251402, 0.18703038661484145, 0.18230460382195532)\n",
      "(0.3876708262943152, 0.40258868356193867, 0.3951049609721309)\n",
      "(0.12050446891524964, 0.12725981439069137, 0.12397356990315135)\n",
      "(0.23117105716436345, 0.24095529154022377, 0.23597764002005833)\n",
      "(0.45522671853398294, 0.4705511523303271, 0.46302354226988457)\n"
     ]
    }
   ],
   "source": [
    "def bootstrap_ci(data, n_iter=1000, alpha=0.05):\n",
    "    means = []\n",
    "    for _ in range(n_iter):\n",
    "        sample = np.random.choice(data, size=len(data), replace=True)\n",
    "        means.append(np.mean(sample))  # or whatever metric\n",
    "\n",
    "    lower = np.percentile(means, 100 * alpha / 2)\n",
    "    upper = np.percentile(means, 100 * (1 - alpha / 2))\n",
    "    return lower, upper, np.mean(data)  # 原始均值\n",
    "\n",
    "from scipy.stats import wilcoxon\n",
    "\n",
    "level1_mean, level2_mean, level3_mean = np.array(level1_mean), np.array(level2_mean), np.array(level3_mean)\n",
    "level1_inner_mean, level2_inner_mean, level3_inner_mean = np.array(level1_inner_mean), np.array(level2_inner_mean), np.array(level3_inner_mean)\n",
    "\n",
    "print(bootstrap_ci(level1_mean))\n",
    "print(bootstrap_ci(level2_mean))\n",
    "print(bootstrap_ci(level3_mean))\n",
    "\n",
    "print(bootstrap_ci(level1_inner_mean))\n",
    "print(bootstrap_ci(level2_inner_mean))\n",
    "print(bootstrap_ci(level3_inner_mean))\n",
    "\n",
    "\n"
   ],
   "metadata": {
    "collapsed": false,
    "ExecuteTime": {
     "end_time": "2025-05-19T15:20:36.590911Z",
     "start_time": "2025-05-19T15:20:36.348593Z"
    }
   },
   "id": "f6e46dc67b293df8"
  },
  {
   "cell_type": "code",
   "execution_count": 204,
   "outputs": [
    {
     "name": "stdout",
     "output_type": "stream",
     "text": [
      "(-0.04510832146825677, -0.04959611228697469, -0.0406359836385193)\n",
      "(-0.06114039814659997, -0.06804572253003062, -0.05415779248244666)\n",
      "(-0.07899540195326288, -0.08972759949248134, -0.06822219095286328)\n"
     ]
    }
   ],
   "source": [
    "def bootstrap_mean_diff(x, y, n_iter=10000, alpha=0.05):\n",
    "    rng   = np.random.default_rng(2025)\n",
    "    diffs = []\n",
    "    for _ in range(n_iter):\n",
    "        xb = rng.choice(x, size=len(x), replace=True)\n",
    "        yb = rng.choice(y, size=len(y), replace=True)\n",
    "        diffs.append(np.mean(xb) - np.mean(yb))\n",
    "    lo, hi = np.percentile(diffs, [100*alpha/2, 100*(1-alpha/2)])\n",
    "    return np.mean(x) - np.mean(y), lo, hi\n",
    "\n",
    "print(bootstrap_mean_diff(level1_mean, level1_inner_mean))\n",
    "print(bootstrap_mean_diff(level2_mean, level2_inner_mean))\n",
    "print(bootstrap_mean_diff(level3_mean, level3_inner_mean))"
   ],
   "metadata": {
    "collapsed": false,
    "ExecuteTime": {
     "end_time": "2025-05-19T17:51:37.615857Z",
     "start_time": "2025-05-19T17:51:32.932984Z"
    }
   },
   "id": "c9aeac5e9d57d6a1"
  },
  {
   "cell_type": "code",
   "execution_count": 196,
   "outputs": [
    {
     "data": {
      "text/plain": "(0.13444497720968374, 0.24878796312091825, 0.4760114657669225)"
     },
     "execution_count": 196,
     "metadata": {},
     "output_type": "execute_result"
    }
   ],
   "source": [
    "import itertools\n",
    "tmp = []\n",
    "level1_Jaccard_inner, level2_Jaccard_inner, level3_Jaccard_inner = [], [], []\n",
    "level1_inner_mean, level2_inner_mean, level3_inner_mean = [], [], []\n",
    "level1_mean, level2_mean, level3_mean = [], [], []\n",
    "for i in range(len(levels_1)):\n",
    "    ens = levels_1[i][1]\n",
    "    cn = levels_1[i][0]\n",
    "    if len(ens) < 2:\n",
    "        continue\n",
    "    tmp.append(ens)\n",
    "    jaccard_inner, jaccard_outer = [], []\n",
    "    for en in ens:\n",
    "        jaccard_outer.append(jaccard_similarity(cn, en))\n",
    "    level1_mean.append(np.array(jaccard_outer).mean())\n",
    "    for pair in itertools.combinations(ens, 2):\n",
    "        level1_Jaccard_inner.append(jaccard_similarity(pair[0], pair[1]))\n",
    "        jaccard_inner.append(jaccard_similarity(pair[0], pair[1]))\n",
    "    level1_inner_mean.append(np.array(jaccard_inner).mean())\n",
    "\n",
    "for i in range(len(levels_2)):\n",
    "    ens = levels_2[i][1]\n",
    "    cn = levels_2[i][0]\n",
    "    if len(ens) < 2:\n",
    "        continue\n",
    "    jaccard_inner, jaccard_outer = [], []\n",
    "    for en in ens:\n",
    "        jaccard_outer.append(jaccard_similarity(cn, en))\n",
    "    level2_mean.append(np.array(jaccard_outer).mean())\n",
    "    for pair in itertools.combinations(ens, 2):\n",
    "        level2_Jaccard_inner.append(jaccard_similarity(pair[0], pair[1]))\n",
    "        jaccard_inner.append(jaccard_similarity(pair[0], pair[1]))\n",
    "    level2_inner_mean.append(np.array(jaccard_inner).mean())\n",
    "\n",
    "for i in range(len(levels_3)):\n",
    "    ens = levels_3[i][1]\n",
    "    cn = levels_3[i][0]\n",
    "    if len(ens) < 2:\n",
    "        continue\n",
    "    jaccard_inner, jaccard_outer = [], []\n",
    "    for en in ens:\n",
    "        jaccard_outer.append(jaccard_similarity(cn, en))\n",
    "    level3_mean.append(np.array(jaccard_outer).mean())\n",
    "    for pair in itertools.combinations(ens, 2):\n",
    "        level3_Jaccard_inner.append(jaccard_similarity(pair[0], pair[1]))\n",
    "        jaccard_inner.append(jaccard_similarity(pair[0], pair[1]))\n",
    "    level3_inner_mean.append(np.array(jaccard_inner).mean())\n",
    "        \n",
    "# average\n",
    "np.array(level1_Jaccard_inner).mean(), np.array(level2_Jaccard_inner).mean(), np.array(level3_Jaccard_inner).mean()"
   ],
   "metadata": {
    "collapsed": false,
    "ExecuteTime": {
     "end_time": "2025-05-19T15:27:18.698407Z",
     "start_time": "2025-05-19T15:27:18.499522Z"
    }
   },
   "id": "56332fdd23dbd1b5"
  },
  {
   "cell_type": "code",
   "execution_count": 202,
   "outputs": [
    {
     "name": "stdout",
     "output_type": "stream",
     "text": [
      "WilcoxonResult(statistic=564153.0, pvalue=5.46068450200505e-86)\n",
      "0.07886524843489458 0.07002105098186065 0.12397356990315135 0.08169227063686399\n"
     ]
    }
   ],
   "source": [
    "print(wilcoxon(np.array(level1_mean), np.array(level1_inner_mean)))\n",
    "# print(wilcoxon(np.array(level2_mean), np.array(level2_inner_mean)))\n",
    "# print(wilcoxon(np.array(level3_mean), np.array(level3_inner_mean)))\n",
    "print(wilcoxon(np.array(level1_mean), np.array(level1_inner_mean)))\n",
    "print(np.array(level1_mean).mean(), np.array(level1_mean).std(), np.array(level1_inner_mean).mean(), np.array(level1_inner_mean).std())"
   ],
   "metadata": {
    "collapsed": false,
    "ExecuteTime": {
     "end_time": "2025-05-19T16:54:45.500968Z",
     "start_time": "2025-05-19T16:54:45.476606Z"
    }
   },
   "id": "acb8398e65e233cb"
  },
  {
   "cell_type": "code",
   "execution_count": 200,
   "outputs": [
    {
     "data": {
      "text/plain": "<Figure size 800x600 with 1 Axes>",
      "image/png": "[encoded data removed]"
     },
     "metadata": {},
     "output_type": "display_data"
    },
    {
     "data": {
      "text/plain": "<Figure size 640x480 with 0 Axes>"
     },
     "metadata": {},
     "output_type": "display_data"
    }
   ],
   "source": [
    "import numpy as np\n",
    "import pandas as pd\n",
    "import matplotlib.pyplot as plt\n",
    "import seaborn as sns\n",
    "\n",
    "# 假设你已有两个 list：\n",
    "zh_en_means = level1_mean\n",
    "en_en_means = level1_inner_mean\n",
    "\n",
    "# 合并成 DataFrame 方便 seaborn 作图\n",
    "data = pd.DataFrame({\n",
    "    'Jaccard': zh_en_means + en_en_means,\n",
    "    'Group': ['Cross-language'] * len(zh_en_means) + ['Within-English'] * len(en_en_means)\n",
    "})\n",
    "\n",
    "# Bootstrap 函数\n",
    "def bootstrap_ci(data, n_iter=2000, alpha=0.05):\n",
    "    boot_means = []\n",
    "    for _ in range(n_iter):\n",
    "        sample = np.random.choice(data, size=len(data), replace=True)\n",
    "        boot_means.append(np.mean(sample))\n",
    "    lower = np.percentile(boot_means, 100 * alpha / 2)\n",
    "    upper = np.percentile(boot_means, 100 * (1 - alpha / 2))\n",
    "    return np.mean(data), lower, upper\n",
    "\n",
    "# 分别计算 bootstrap CI\n",
    "means, lowers, uppers = [], [], []\n",
    "for group_name in ['Cross-language', 'Within-English']:\n",
    "    group_data = data[data['Group'] == group_name]['Jaccard'].values\n",
    "    mean, lower, upper = bootstrap_ci(group_data)\n",
    "    means.append(mean)\n",
    "    lowers.append(lower)\n",
    "    uppers.append(upper)\n",
    "\n",
    "# 绘图\n",
    "plt.figure(figsize=(8, 6))\n",
    "sns.violinplot(x='Group', y='Jaccard', data=data, inner=None, color='lightgray')\n",
    "sns.boxplot(x='Group', y='Jaccard', data=data, width=0.2, showcaps=True, \n",
    "            boxprops={'facecolor': 'white'}, showfliers=False)\n",
    "\n",
    "# 添加误差条 (error bars for bootstrap CI)\n",
    "for i, (mean, lower, upper) in enumerate(zip(means, lowers, uppers)):\n",
    "    plt.errorbar(i, mean, yerr=[[mean - lower], [upper - mean]], fmt='o', \n",
    "                 color='black', capsize=5, label='Bootstrap 95% CI' if i == 0 else \"\")\n",
    "\n",
    "plt.title(\"Jaccard Similarity per Wine: Cross-language vs. Within-English\")\n",
    "plt.ylabel(\"Mean Jaccard Similarity\")\n",
    "plt.xlabel(\"\")\n",
    "plt.legend()\n",
    "plt.tight_layout()\n",
    "plt.show()\n",
    "\n",
    "# save svg\n",
    "plt.savefig('jaccard.svg', format='svg')"
   ],
   "metadata": {
    "collapsed": false,
    "ExecuteTime": {
     "end_time": "2025-05-19T16:39:51.421048Z",
     "start_time": "2025-05-19T16:39:51.010618Z"
    }
   },
   "id": "2c7763b4b6fa4643"
  }
 ],
 "metadata": {
  "kernelspec": {
   "display_name": "Python 3",
   "language": "python",
   "name": "python3"
  },
  "language_info": {
   "codemirror_mode": {
    "name": "ipython",
    "version": 2
   },
   "file_extension": ".py",
   "mimetype": "text/x-python",
   "name": "python",
   "nbconvert_exporter": "python",
   "pygments_lexer": "ipython2",
   "version": "2.7.6"
  }
 },
 "nbformat": 4,
 "nbformat_minor": 5
}
